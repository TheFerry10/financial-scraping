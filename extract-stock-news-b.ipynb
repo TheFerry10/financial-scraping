{
 "cells": [
  {
   "cell_type": "code",
   "execution_count": 18,
   "metadata": {},
   "outputs": [],
   "source": [
    "import pandas as pd\n",
    "import numpy as np\n",
    "import requests\n",
    "from bs4 import BeautifulSoup\n",
    "import os\n",
    "import json\n",
    "from glob import glob"
   ]
  },
  {
   "cell_type": "code",
   "execution_count": 19,
   "metadata": {},
   "outputs": [],
   "source": [
    "def get_soup(url):\n",
    "    headers = {'User-Agent': 'Mozilla/5.0 (Windows NT 6.1; WOW64; rv:50.0) Gecko/20100101 Firefox/50.0'}\n",
    "    response = requests.get(url, headers=headers)\n",
    "    if response.status_code == 200:\n",
    "        return BeautifulSoup(response.text, 'html.parser')\n",
    "    else:\n",
    "        print(f\"Access denied for url: {url}. Output is None.\")\n",
    "        return None\n"
   ]
  },
  {
   "cell_type": "code",
   "execution_count": 20,
   "metadata": {},
   "outputs": [],
   "source": [
    "base_url = \"https://www.finanzen.net\"\n"
   ]
  },
  {
   "cell_type": "markdown",
   "metadata": {},
   "source": [
    "## Choose a sample from the stocks news overviews"
   ]
  },
  {
   "cell_type": "code",
   "execution_count": 21,
   "metadata": {},
   "outputs": [
    {
     "name": "stdout",
     "output_type": "stream",
     "text": [
      "Shape: (10, 7)\n"
     ]
    },
    {
     "data": {
      "text/html": [
       "<div>\n",
       "<style scoped>\n",
       "    .dataframe tbody tr th:only-of-type {\n",
       "        vertical-align: middle;\n",
       "    }\n",
       "\n",
       "    .dataframe tbody tr th {\n",
       "        vertical-align: top;\n",
       "    }\n",
       "\n",
       "    .dataframe thead th {\n",
       "        text-align: right;\n",
       "    }\n",
       "</style>\n",
       "<table border=\"1\" class=\"dataframe\">\n",
       "  <thead>\n",
       "    <tr style=\"text-align: right;\">\n",
       "      <th></th>\n",
       "      <th>id</th>\n",
       "      <th>ISIN</th>\n",
       "      <th>date</th>\n",
       "      <th>title</th>\n",
       "      <th>source</th>\n",
       "      <th>kicker</th>\n",
       "      <th>link_article</th>\n",
       "    </tr>\n",
       "  </thead>\n",
       "  <tbody>\n",
       "    <tr>\n",
       "      <th>0</th>\n",
       "      <td>02d8c86bb5de13952ff0d3dd84ab66923bfbd660</td>\n",
       "      <td>GB00B10RZP78</td>\n",
       "      <td>16.12.21</td>\n",
       "      <td>Maersk und Unilever schließen Logistik-Partner...</td>\n",
       "      <td>Dow Jones</td>\n",
       "      <td>Supply-Chain-Management</td>\n",
       "      <td>https://www.finanzen.net/nachricht/aktien/supp...</td>\n",
       "    </tr>\n",
       "    <tr>\n",
       "      <th>1</th>\n",
       "      <td>b747700e4a9a9117f14914ba35378aa955eeb3fd</td>\n",
       "      <td>GB00B10RZP78</td>\n",
       "      <td>19.11.21</td>\n",
       "      <td>Unilever-Aktie knapp im Minus: Unilever verkau...</td>\n",
       "      <td>Dow Jones</td>\n",
       "      <td>Verkauf</td>\n",
       "      <td>https://www.finanzen.net/nachricht/aktien/verk...</td>\n",
       "    </tr>\n",
       "    <tr>\n",
       "      <th>2</th>\n",
       "      <td>9d9f061dbb3c23a0f564520c966e0af95009ca34</td>\n",
       "      <td>GB00B10RZP78</td>\n",
       "      <td>10.11.21</td>\n",
       "      <td>Unilever-Aktie fester: Unilever legt wohl Verk...</td>\n",
       "      <td>Dow Jones</td>\n",
       "      <td>Interesse zu gering</td>\n",
       "      <td>https://www.finanzen.net/nachricht/aktien/inte...</td>\n",
       "    </tr>\n",
       "    <tr>\n",
       "      <th>3</th>\n",
       "      <td>7366b6898ce8dd20d22460dae0d28226883bca82</td>\n",
       "      <td>GB00B10RZP78</td>\n",
       "      <td>21.10.21</td>\n",
       "      <td>Unilever-Aktie steigt: Unilever mit Umsatzplus</td>\n",
       "      <td>dpa-afx</td>\n",
       "      <td>Umfeld unbeständig</td>\n",
       "      <td>https://www.finanzen.net/nachricht/aktien/umfe...</td>\n",
       "    </tr>\n",
       "    <tr>\n",
       "      <th>4</th>\n",
       "      <td>0897e96b96833749c3472b95d97577af0ce7f038</td>\n",
       "      <td>GB00B10RZP78</td>\n",
       "      <td>13.08.21</td>\n",
       "      <td>Deo, Eis und Waschmittel: Hinter diesen Produk...</td>\n",
       "      <td>finanzen.net</td>\n",
       "      <td>Suppen und Diät-Drinks</td>\n",
       "      <td>https://www.finanzen.net/nachricht/aktien/supp...</td>\n",
       "    </tr>\n",
       "  </tbody>\n",
       "</table>\n",
       "</div>"
      ],
      "text/plain": [
       "                                         id          ISIN      date  \\\n",
       "0  02d8c86bb5de13952ff0d3dd84ab66923bfbd660  GB00B10RZP78  16.12.21   \n",
       "1  b747700e4a9a9117f14914ba35378aa955eeb3fd  GB00B10RZP78  19.11.21   \n",
       "2  9d9f061dbb3c23a0f564520c966e0af95009ca34  GB00B10RZP78  10.11.21   \n",
       "3  7366b6898ce8dd20d22460dae0d28226883bca82  GB00B10RZP78  21.10.21   \n",
       "4  0897e96b96833749c3472b95d97577af0ce7f038  GB00B10RZP78  13.08.21   \n",
       "\n",
       "                                               title        source  \\\n",
       "0  Maersk und Unilever schließen Logistik-Partner...     Dow Jones   \n",
       "1  Unilever-Aktie knapp im Minus: Unilever verkau...     Dow Jones   \n",
       "2  Unilever-Aktie fester: Unilever legt wohl Verk...     Dow Jones   \n",
       "3     Unilever-Aktie steigt: Unilever mit Umsatzplus       dpa-afx   \n",
       "4  Deo, Eis und Waschmittel: Hinter diesen Produk...  finanzen.net   \n",
       "\n",
       "                    kicker                                       link_article  \n",
       "0  Supply-Chain-Management  https://www.finanzen.net/nachricht/aktien/supp...  \n",
       "1                  Verkauf  https://www.finanzen.net/nachricht/aktien/verk...  \n",
       "2      Interesse zu gering  https://www.finanzen.net/nachricht/aktien/inte...  \n",
       "3       Umfeld unbeständig  https://www.finanzen.net/nachricht/aktien/umfe...  \n",
       "4   Suppen und Diät-Drinks  https://www.finanzen.net/nachricht/aktien/supp...  "
      ]
     },
     "execution_count": 21,
     "metadata": {},
     "output_type": "execute_result"
    }
   ],
   "source": [
    "file_path = 'data/stocks/news_UNLYF_2021-01-01_2021-12-31.csv'\n",
    "df_news_links = pd.read_csv(file_path)\n",
    "print(f\"Shape: {df_news_links.shape}\")\n",
    "df_news_links.head()"
   ]
  },
  {
   "cell_type": "code",
   "execution_count": 22,
   "metadata": {},
   "outputs": [],
   "source": [
    "def append_to_json(file_path_json, dict_to_save):\n",
    "    news_object = []\n",
    "    try:\n",
    "        with open(file_path_json, 'r') as f:\n",
    "            news_object = json.load(f)\n",
    "    except FileNotFoundError:\n",
    "        print(f\"File {file_path_json} not found and will be created\")\n",
    "    \n",
    "    news_object.append(dict_to_save)    \n",
    "    with open(file_path_json, 'w') as json_file:\n",
    "        json.dump(news_object, json_file)\n",
    "     "
   ]
  },
  {
   "cell_type": "code",
   "execution_count": 23,
   "metadata": {},
   "outputs": [],
   "source": [
    "def is_url_ingested(url, file_path):\n",
    "    try:\n",
    "        with open(file_path, 'r') as f:\n",
    "            data = json.load(f)\n",
    "        links = [data_point['link_article'] for data_point in data]\n",
    "    except FileNotFoundError:\n",
    "        links = []\n",
    "    return url in links\n"
   ]
  },
  {
   "cell_type": "code",
   "execution_count": 24,
   "metadata": {},
   "outputs": [],
   "source": [
    "def is_div_element_in_soup(soup, element_prop):\n",
    "    if soup.find('div', element_prop):\n",
    "        return True\n",
    "    else:\n",
    "        return False\n",
    "    "
   ]
  },
  {
   "cell_type": "code",
   "execution_count": 25,
   "metadata": {},
   "outputs": [],
   "source": [
    "file_path_news_content = 'data/stocks/news_content_UNLYF_2021-01-01_2021-12-31.json'"
   ]
  },
  {
   "cell_type": "code",
   "execution_count": 26,
   "metadata": {},
   "outputs": [
    {
     "name": "stdout",
     "output_type": "stream",
     "text": [
      "https://www.finanzen.net/nachricht/aktien/supply-chain-management-maersk-und-unilever-schliessen-logistik-partnerschaft-maersk-aktie-hoeher-10851584\n",
      "File data/stocks/news_content_UNLYF_2021-01-01_2021-12-31.json not found and will be created\n",
      "https://www.finanzen.net/nachricht/aktien/verkauf-unilever-aktie-knapp-im-minus-unilever-verkauft-teegeschaeft-fuer-milliardenbetrag-an-cvc-capital-10763354\n",
      "https://www.finanzen.net/nachricht/aktien/interesse-zu-gering-unilever-aktie-fester-unilever-legt-wohl-verkaufsplaene-fuer-q-tips-auf-eis-10728573\n",
      "https://www.finanzen.net/nachricht/aktien/umfeld-unbestaendig-unilever-aktie-steigt-unilever-mit-umsatzplus-10648601\n",
      "https://www.finanzen.net/nachricht/aktien/suppen-und-diaet-drinks-deo-eis-und-waschmittel-hinter-diesen-produkten-steckt-unilever-9013248\n",
      "https://www.finanzen.net/nachricht/aktien/prognose-gesenkt-margenwarnung-unilever-durch-hoehere-kosten-belastet-unilever-aktie-verliert-10358729\n",
      "https://www.finanzen.net/nachricht/aktien/pflanzliche-alternativen-unilever-erweitert-veganes-angebot-durch-partnerschaft-mit-enough-10182655\n",
      "https://www.finanzen.net/nachricht/aktien/euro-am-sonntag-aktien-check-unilever-aktie-aktienrueckkauf-treibt-an-10115511\n",
      "https://www.finanzen.net/nachricht/aktien/starker-euro-belastet-unilever-mit-robuster-entwicklung-anleger-erfreut-10074441\n",
      "https://www.finanzen.net/nachricht/aktien/in-guter-verfassung-unilever-titel-fallen-unilever-ueberraschend-mit-ruecklaeufigem-ergebnis-9772788\n"
     ]
    }
   ],
   "source": [
    "\n",
    "for id, url, ISIN in df_news_links[['id', 'link_article', 'ISIN']].values:\n",
    "    headline_text = None\n",
    "    teaser_text = None\n",
    "    news_extracted = None\n",
    "    print(url)\n",
    "\n",
    "    \n",
    "    if not is_url_ingested(url, file_path_news_content):\n",
    "        soup = get_soup(url)\n",
    "        if soup:        \n",
    "            # headline\n",
    "            if is_div_element_in_soup(soup, {'class': 'row news-snapshot'}):\n",
    "                headline_html = soup.find('div', {'class': 'row news-snapshot'})\n",
    "            else:\n",
    "                if is_div_element_in_soup(soup, {'class': 'single-article'}):\n",
    "                    headline_html = soup.find('div', {'class': 'single-article'})\n",
    "                else:\n",
    "                    headline_html = None\n",
    "                    \n",
    "            try:\n",
    "                headline_text = headline_html.find('h1').text.encode('latin').decode()\n",
    "            except AttributeError:\n",
    "                print('Headline has not been identified from the implemented rules.')\n",
    "                print(headline_html)\n",
    "                raise\n",
    "                \n",
    "\n",
    "            # teaser\n",
    "            if is_div_element_in_soup(soup, {'class': 'teaser teaser-snapshot'}):\n",
    "                teaser_html = soup.find('div', {'class': 'teaser teaser-snapshot'})\n",
    "            else:\n",
    "                teaser_html = None\n",
    "                \n",
    "            try: \n",
    "                teaser_text = teaser_html.find_all('div')[-1].text.encode('latin').decode()\n",
    "            except AttributeError:\n",
    "                print('Teaser has not been identified from the implemented rules.')\n",
    "                raise\n",
    "            \n",
    "            if is_div_element_in_soup(soup, {'class': 'pull-left mright-20'}):\n",
    "                datetime_html = soup.find('div', {'class': 'pull-left mright-20'})\n",
    "            else:\n",
    "                datetime_html = None\n",
    "                \n",
    "            try:\n",
    "                datetime_text = datetime_html.text\n",
    "            except AttributeError:\n",
    "                print('No date found in article')\n",
    "                datetime_text = None\n",
    "\n",
    "\n",
    "            # news content\n",
    "            news_container = soup.find('div', {'id': 'news-container'})\n",
    "\n",
    "            div_properties_to_delete = [\n",
    "                {'class': 'dropdown-container-triangle seperate-triangle'},\n",
    "                {'class': 'dropdown-container-chartflow relative'},\n",
    "                {'class': 'visible-xs-block'},\n",
    "                {'class': 'pull-right'},\n",
    "                {'class': 'lvgSearchOuter'},\n",
    "                {'class': 'native-content-ad-container'},\n",
    "                {'class': 'medium-font light-grey'},\n",
    "                {'class': '',},\n",
    "                ]\n",
    "\n",
    "\n",
    "            for div_properties in div_properties_to_delete:\n",
    "                if news_container.find('div', div_properties):\n",
    "                    news_container.find('div', div_properties).decompose()\n",
    "\n",
    "            news_content = news_container.prettify()\n",
    "            \n",
    "            # put the content together in a structured format\n",
    "            news_extracted = {key: value for key, value in zip(['id', 'ISIN', 'link_article', 'timestamp', 'headline', 'teaser', 'content_html'], [\n",
    "                id, ISIN, url, datetime_text, headline_text, teaser_text, news_content])}\n",
    "            append_to_json(file_path_news_content, news_extracted)\n",
    "            # extracted_news_from_url.append(news_extracted)\n",
    "        \n",
    "    "
   ]
  },
  {
   "cell_type": "code",
   "execution_count": 27,
   "metadata": {},
   "outputs": [],
   "source": [
    "with open(file_path_news_content, 'r') as f:\n",
    "    news_data = json.load(f)\n",
    "df_news = pd.DataFrame(news_data)\n"
   ]
  },
  {
   "cell_type": "code",
   "execution_count": 28,
   "metadata": {},
   "outputs": [
    {
     "name": "stdout",
     "output_type": "stream",
     "text": [
      "Saved to data/stocks/news_content_UNLYF_2021-01-01_2021-12-31.csv\n"
     ]
    }
   ],
   "source": [
    "file_name_news_content = 'data/stocks/news_content_UNLYF_2021-01-01_2021-12-31.csv'\n",
    "df_news.to_csv(file_name_news_content, index=False)\n",
    "print(\"Saved to\", file_name_news_content)"
   ]
  },
  {
   "cell_type": "code",
   "execution_count": null,
   "metadata": {},
   "outputs": [],
   "source": []
  }
 ],
 "metadata": {
  "interpreter": {
   "hash": "b3577d3b9980a21cfb532b7187d54a40e95e0cbfb62931e8c4ec2f5fbb4bbb23"
  },
  "kernelspec": {
   "display_name": "Python 3.7.13 ('financial_scraping')",
   "language": "python",
   "name": "python3"
  },
  "language_info": {
   "codemirror_mode": {
    "name": "ipython",
    "version": 3
   },
   "file_extension": ".py",
   "mimetype": "text/x-python",
   "name": "python",
   "nbconvert_exporter": "python",
   "pygments_lexer": "ipython3",
   "version": "3.7.13"
  },
  "orig_nbformat": 4
 },
 "nbformat": 4,
 "nbformat_minor": 2
}
