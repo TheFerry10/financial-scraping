{
 "cells": [
  {
   "cell_type": "code",
   "execution_count": 117,
   "metadata": {},
   "outputs": [
    {
     "name": "stdout",
     "output_type": "stream",
     "text": [
      "Overwriting enrich_stock_information.py\n"
     ]
    }
   ],
   "source": [
    "%%writefile enrich_stock_information.py\n",
    "import pandas as pd\n",
    "import numpy as np\n",
    "import requests\n",
    "from bs4 import BeautifulSoup\n",
    "import os\n",
    "from glob import glob\n",
    "import argparse\n",
    "\n",
    "parser = argparse.ArgumentParser(description='Enrich stock information from finanzen.net')\n",
    "parser.add_argument('--input-dir', type=str, dest='input_dir', default=\"data/stocks/processed\", help='Input data dir')\n",
    "parser.add_argument('--num-stocks', type=int, dest='num_stocks', default=None, help='Number of stocks to be processed')\n",
    "args = parser.parse_args()\n",
    "\n",
    "processed_data_path = args.input_dir\n",
    "num_stocks = args.num_stocks\n",
    "if num_stocks is None:\n",
    "    print(\"Gather information for all stocks\")\n",
    "\n",
    "def load_file_path_to_latest_stock_collection(processed_data_path):\n",
    "    stocks_file_paths = glob(processed_data_path + \"/*_xetra.csv\")\n",
    "    datetime_strings = [os.path.basename(path).split('_')[0] for path in stocks_file_paths]\n",
    "    for path in stocks_file_paths:\n",
    "        if max(datetime_strings) in path:\n",
    "            stocks_file_path = path\n",
    "            print(f\"Newest file: {stocks_file_path}\")\n",
    "            break\n",
    "    return stocks_file_path\n",
    "\n",
    "\n",
    "def get_soup(url):\n",
    "    response = requests.get(url)\n",
    "    return BeautifulSoup(response.text, 'html.parser')\n",
    "\n",
    "\n",
    "file_path_stock_collection = load_file_path_to_latest_stock_collection(\n",
    "    processed_data_path)\n",
    "\n",
    "if num_stocks is None:\n",
    "    df_stocks = pd.read_csv(file_path_stock_collection)\n",
    "else:\n",
    "    df_stocks = pd.read_csv(file_path_stock_collection).sample(num_stocks)\n",
    "\n",
    "path, ext = os.path.splitext(file_path_stock_collection)\n",
    "new_path_and_ext = path + \"_finanzen\" + ext\n",
    "\n",
    "base_url = \"https://www.finanzen.net\"\n",
    "\n",
    "stock_properties_for_all_stocks = []\n",
    "for search_string in df_stocks['ISIN'].values:\n",
    "    stock_properties = dict()\n",
    "    print(search_string)\n",
    "    search_api = f\"/suchergebnis.asp?strSuchString={search_string}\"\n",
    "    url = base_url + search_api\n",
    "    soup = get_soup(url)\n",
    "    \n",
    "    # stock name\n",
    "    stock_name = soup.find('h1', {'class': 'snapshot__headline'}).text\n",
    "    stock_properties[\"stock_name\"] = stock_name.encode('latin').decode()\n",
    "\n",
    "    # instrument ids\n",
    "    for instrument_id in soup.find('div', {'class': 'badge-bar'}).find_all('h2', {'class': 'badge background-color-de-black-haze pointer display-none-md margin-vertical-0.00'}):\n",
    "        key, value = instrument_id.text.split(' ', 1)\n",
    "        stock_properties[key] = value\n",
    "\n",
    "    # news link\n",
    "    news_link = soup.find('a', {'class': 'display-none-md font-whitespace-nowrap-md'}).attrs['href']\n",
    "    stock_properties[\"news_link\"] = base_url + news_link.encode('latin').decode()\n",
    "    stock_properties_for_all_stocks.append(stock_properties)\n",
    "\n",
    "\n",
    "df_stocks_enriched = pd.merge(df_stocks, pd.DataFrame(stock_properties_for_all_stocks), how='left', on='ISIN')\n",
    "df_stocks_enriched.to_csv(new_path_and_ext, index=False)\n",
    "print(f\"Done! Enriched stock data saved to: {new_path_and_ext}\")\n"
   ]
  },
  {
   "cell_type": "code",
   "execution_count": null,
   "metadata": {},
   "outputs": [],
   "source": []
  }
 ],
 "metadata": {
  "interpreter": {
   "hash": "187b1988031df14b784b1ca83dcf6c508f75d9af158ade7af96a8719ac4cf2b2"
  },
  "kernelspec": {
   "display_name": "Python 3.8.5 ('base')",
   "language": "python",
   "name": "python3"
  },
  "language_info": {
   "codemirror_mode": {
    "name": "ipython",
    "version": 3
   },
   "file_extension": ".py",
   "mimetype": "text/x-python",
   "name": "python",
   "nbconvert_exporter": "python",
   "pygments_lexer": "ipython3",
   "version": "3.8.5"
  },
  "orig_nbformat": 4
 },
 "nbformat": 4,
 "nbformat_minor": 2
}
