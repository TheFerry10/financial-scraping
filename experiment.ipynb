{
 "cells": [
  {
   "cell_type": "code",
   "execution_count": 21,
   "metadata": {},
   "outputs": [],
   "source": [
    "# get all dates in a specific year\n",
    "import datetime\n",
    "from datetime import date\n",
    "from typing import List\n",
    "\n",
    "start = date(2022, 1, 1)\n",
    "end = date(2022, 12, 31)\n",
    "\n",
    "def format_date(date: date) -> str:\n",
    "    return date.strftime(\"%Y-%m-%d\")\n",
    "\n",
    "def get_dates_in_interval(start: date, end: date) -> List[date]:\n",
    "    \"\"\"\n",
    "    Get all calendar dates between start end end date.\n",
    "    \"\"\"\n",
    "    return [start + datetime.timedelta(days=x) for x in range((end - start).days + 1)]"
   ]
  }
 ],
 "metadata": {
  "interpreter": {
   "hash": "187b1988031df14b784b1ca83dcf6c508f75d9af158ade7af96a8719ac4cf2b2"
  },
  "kernelspec": {
   "display_name": "Python 3.8.5 ('base')",
   "language": "python",
   "name": "python3"
  },
  "language_info": {
   "codemirror_mode": {
    "name": "ipython",
    "version": 3
   },
   "file_extension": ".py",
   "mimetype": "text/x-python",
   "name": "python",
   "nbconvert_exporter": "python",
   "pygments_lexer": "ipython3",
   "version": "3.8.5"
  },
  "orig_nbformat": 4
 },
 "nbformat": 4,
 "nbformat_minor": 2
}
