{
 "cells": [
  {
   "cell_type": "code",
   "execution_count": 1,
   "metadata": {},
   "outputs": [],
   "source": [
    "import numpy as np\n",
    "import pandas as pd\n",
    "import json\n",
    "import datetime\n",
    "import requests\n",
    "from bs4 import BeautifulSoup\n"
   ]
  },
  {
   "cell_type": "code",
   "execution_count": 2,
   "metadata": {},
   "outputs": [],
   "source": [
    "file_path_news_content = \"data/stocks/news_content_UNLYF_2021-01-01_2021-12-31.json\""
   ]
  },
  {
   "cell_type": "code",
   "execution_count": 3,
   "metadata": {},
   "outputs": [],
   "source": [
    "with open(file_path_news_content, 'r') as f:\n",
    "    news_data = json.load(f)\n",
    "df_news = pd.DataFrame(news_data)\n"
   ]
  },
  {
   "cell_type": "code",
   "execution_count": 6,
   "metadata": {},
   "outputs": [],
   "source": [
    "def html_to_text(markup):\n",
    "    markup = markup.split('Weitere News zum Thema')[0]\n",
    "    soup = BeautifulSoup(markup)\n",
    "    clean_content = ' '.join([word.strip() for word in soup.text.split()]).encode('latin', errors='ignore').decode(errors='ignore')\n",
    "    return clean_content\n"
   ]
  },
  {
   "cell_type": "code",
   "execution_count": 7,
   "metadata": {},
   "outputs": [],
   "source": [
    "df_news['content_clean'] = df_news['content_html'].apply(html_to_text)"
   ]
  },
  {
   "cell_type": "code",
   "execution_count": 8,
   "metadata": {},
   "outputs": [],
   "source": [
    "df_news.drop('content_html', axis=1).to_csv(\"data/stocks/news_content_UNLYF_2021-01-01_2021-12-31.csv\")"
   ]
  },
  {
   "cell_type": "code",
   "execution_count": null,
   "metadata": {},
   "outputs": [],
   "source": []
  }
 ],
 "metadata": {
  "interpreter": {
   "hash": "b3577d3b9980a21cfb532b7187d54a40e95e0cbfb62931e8c4ec2f5fbb4bbb23"
  },
  "kernelspec": {
   "display_name": "Python 3.7.13 ('financial_scraping')",
   "language": "python",
   "name": "python3"
  },
  "language_info": {
   "codemirror_mode": {
    "name": "ipython",
    "version": 3
   },
   "file_extension": ".py",
   "mimetype": "text/x-python",
   "name": "python",
   "nbconvert_exporter": "python",
   "pygments_lexer": "ipython3",
   "version": "3.7.13"
  },
  "orig_nbformat": 4
 },
 "nbformat": 4,
 "nbformat_minor": 2
}
