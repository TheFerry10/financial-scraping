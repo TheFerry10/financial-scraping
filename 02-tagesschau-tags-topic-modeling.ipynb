{
 "cells": [
  {
   "cell_type": "markdown",
   "metadata": {},
   "source": [
    "# Topic modeling for tags"
   ]
  },
  {
   "cell_type": "markdown",
   "metadata": {},
   "source": [
    "1. Content aggregation: By scraping news headlines and tags from multiple sources, it is possible to create a news aggregation platform that provides a comprehensive overview of the latest stories on a variety of topics.\n",
    "\n",
    "2. Sentiment analysis: By analyzing the sentiment of news headlines over time, it is possible to track changes in public opinion on various topics. This could be useful for businesses, governments, and other organizations that want to understand how their actions or policies are being received by the public.\n",
    "\n",
    "3. Market research: By tracking the frequency and content of news articles related to specific industries or companies, it is possible to gain insights into market trends and the performance of individual firms.\n",
    "\n",
    "4. Media monitoring: By tracking the publication of news articles related to a specific person, company, or topic, it is possible to monitor media coverage and respond to any negative or false information that may be published.\n",
    "\n",
    "5. Data visualization: By visualizing the volume and content of news articles over time, it is possible to create graphical representations of trends and patterns in the news. This could be useful for journalists, researchers, or anyone interested in understanding how a particular topic has evolved over time."
   ]
  },
  {
   "cell_type": "markdown",
   "metadata": {},
   "source": [
    "How does a topic evolve over time?"
   ]
  },
  {
   "cell_type": "code",
   "execution_count": 471,
   "metadata": {},
   "outputs": [],
   "source": [
    "import pandas as pd\n",
    "from collections import Counter\n",
    "import itertools\n",
    "import seaborn as sns\n",
    "import matplotlib.pyplot as plt\n",
    "import matplotlib.dates as mdates\n",
    "from matplotlib.dates import DateFormatter\n",
    "sns.set_theme(style=\"ticks\")\n",
    "sns.set_palette(\"Paired\")\n"
   ]
  },
  {
   "cell_type": "code",
   "execution_count": 472,
   "metadata": {},
   "outputs": [],
   "source": [
    "def flatten(l):\n",
    "    return [item for sublist in l for item in sublist]"
   ]
  },
  {
   "cell_type": "code",
   "execution_count": 473,
   "metadata": {},
   "outputs": [],
   "source": [
    "# load cleaned dataset\n",
    "df_news = pd.read_parquet(\"data/news/tagesschau/2022/tagesschau-news.parquet\")\n",
    "df_news['tags'] = df_news['tags'].apply(lambda x: x.split(','))\n",
    "\n",
    "# What are the top tags?\n",
    "df_top_n_tags_for_2022 = pd.read_parquet(\"data/news/tagesschau/2022/tagesschau-top-tags.parquet\")"
   ]
  },
  {
   "cell_type": "code",
   "execution_count": 474,
   "metadata": {},
   "outputs": [
    {
     "data": {
      "text/html": [
       "<div>\n",
       "<style scoped>\n",
       "    .dataframe tbody tr th:only-of-type {\n",
       "        vertical-align: middle;\n",
       "    }\n",
       "\n",
       "    .dataframe tbody tr th {\n",
       "        vertical-align: top;\n",
       "    }\n",
       "\n",
       "    .dataframe thead th {\n",
       "        text-align: right;\n",
       "    }\n",
       "</style>\n",
       "<table border=\"1\" class=\"dataframe\">\n",
       "  <thead>\n",
       "    <tr style=\"text-align: right;\">\n",
       "      <th></th>\n",
       "      <th>tag</th>\n",
       "      <th>count</th>\n",
       "    </tr>\n",
       "  </thead>\n",
       "  <tbody>\n",
       "    <tr>\n",
       "      <th>0</th>\n",
       "      <td>Ukraine</td>\n",
       "      <td>2644</td>\n",
       "    </tr>\n",
       "    <tr>\n",
       "      <th>1</th>\n",
       "      <td>Russland</td>\n",
       "      <td>1527</td>\n",
       "    </tr>\n",
       "    <tr>\n",
       "      <th>2</th>\n",
       "      <td>Coronavirus</td>\n",
       "      <td>1103</td>\n",
       "    </tr>\n",
       "    <tr>\n",
       "      <th>3</th>\n",
       "      <td>USA</td>\n",
       "      <td>663</td>\n",
       "    </tr>\n",
       "    <tr>\n",
       "      <th>4</th>\n",
       "      <td>Energiekrise</td>\n",
       "      <td>525</td>\n",
       "    </tr>\n",
       "    <tr>\n",
       "      <th>5</th>\n",
       "      <td>EU</td>\n",
       "      <td>472</td>\n",
       "    </tr>\n",
       "    <tr>\n",
       "      <th>6</th>\n",
       "      <td>Ukraine-Krieg</td>\n",
       "      <td>437</td>\n",
       "    </tr>\n",
       "    <tr>\n",
       "      <th>7</th>\n",
       "      <td>China</td>\n",
       "      <td>425</td>\n",
       "    </tr>\n",
       "    <tr>\n",
       "      <th>8</th>\n",
       "      <td>Liveblog</td>\n",
       "      <td>405</td>\n",
       "    </tr>\n",
       "    <tr>\n",
       "      <th>9</th>\n",
       "      <td>Inflation</td>\n",
       "      <td>404</td>\n",
       "    </tr>\n",
       "    <tr>\n",
       "      <th>10</th>\n",
       "      <td>Investigativ</td>\n",
       "      <td>366</td>\n",
       "    </tr>\n",
       "    <tr>\n",
       "      <th>11</th>\n",
       "      <td>Krieg</td>\n",
       "      <td>288</td>\n",
       "    </tr>\n",
       "    <tr>\n",
       "      <th>12</th>\n",
       "      <td>DAX</td>\n",
       "      <td>281</td>\n",
       "    </tr>\n",
       "    <tr>\n",
       "      <th>13</th>\n",
       "      <td>Scholz</td>\n",
       "      <td>280</td>\n",
       "    </tr>\n",
       "    <tr>\n",
       "      <th>14</th>\n",
       "      <td>Börse</td>\n",
       "      <td>268</td>\n",
       "    </tr>\n",
       "  </tbody>\n",
       "</table>\n",
       "</div>"
      ],
      "text/plain": [
       "              tag  count\n",
       "0         Ukraine   2644\n",
       "1        Russland   1527\n",
       "2     Coronavirus   1103\n",
       "3             USA    663\n",
       "4    Energiekrise    525\n",
       "5              EU    472\n",
       "6   Ukraine-Krieg    437\n",
       "7           China    425\n",
       "8        Liveblog    405\n",
       "9       Inflation    404\n",
       "10   Investigativ    366\n",
       "11          Krieg    288\n",
       "12            DAX    281\n",
       "13         Scholz    280\n",
       "14          Börse    268"
      ]
     },
     "execution_count": 474,
     "metadata": {},
     "output_type": "execute_result"
    }
   ],
   "source": [
    "df_top_n_tags_for_2022"
   ]
  },
  {
   "cell_type": "code",
   "execution_count": 476,
   "metadata": {},
   "outputs": [],
   "source": [
    "# What tags are occurring together?\n",
    "\n",
    "df_source_target_mapping = pd.DataFrame()\n",
    "# Give me all articles where I can find the tag\n",
    "\n",
    "for tag in df_top_n_tags_for_2022['tag']:\n",
    "    relevant_tags = []\n",
    "    for tags in df_news['tags'].values:\n",
    "        if tag in tags:\n",
    "            relevant_tags.append(tags)\n",
    "            \n",
    "    absolute_counts = pd.Series(flatten(relevant_tags)).value_counts()\n",
    "    relative_counts = pd.Series(flatten(relevant_tags)).value_counts(normalize=True)\n",
    "    df_relevant_tags_counts = pd.DataFrame({'target': absolute_counts.index, 'count': absolute_counts.values, 'rel_count': relative_counts.values})\n",
    "    df_relevant_tags_counts.drop(index=df_relevant_tags_counts.query(\"target == @tag\").index, inplace=True)\n",
    "    df_relevant_tags_counts['source'] = tag\n",
    "    df_source_target_mapping = pd.concat([df_source_target_mapping, df_relevant_tags_counts], axis=0)"
   ]
  },
  {
   "cell_type": "code",
   "execution_count": 477,
   "metadata": {},
   "outputs": [
    {
     "data": {
      "text/html": [
       "<div>\n",
       "<style scoped>\n",
       "    .dataframe tbody tr th:only-of-type {\n",
       "        vertical-align: middle;\n",
       "    }\n",
       "\n",
       "    .dataframe tbody tr th {\n",
       "        vertical-align: top;\n",
       "    }\n",
       "\n",
       "    .dataframe thead th {\n",
       "        text-align: right;\n",
       "    }\n",
       "</style>\n",
       "<table border=\"1\" class=\"dataframe\">\n",
       "  <thead>\n",
       "    <tr style=\"text-align: right;\">\n",
       "      <th></th>\n",
       "      <th>target</th>\n",
       "      <th>count</th>\n",
       "      <th>rel_count</th>\n",
       "      <th>source</th>\n",
       "    </tr>\n",
       "  </thead>\n",
       "  <tbody>\n",
       "    <tr>\n",
       "      <th>1</th>\n",
       "      <td>Russland</td>\n",
       "      <td>967</td>\n",
       "      <td>0.104541</td>\n",
       "      <td>Ukraine</td>\n",
       "    </tr>\n",
       "    <tr>\n",
       "      <th>2</th>\n",
       "      <td>Liveblog</td>\n",
       "      <td>304</td>\n",
       "      <td>0.032865</td>\n",
       "      <td>Ukraine</td>\n",
       "    </tr>\n",
       "    <tr>\n",
       "      <th>3</th>\n",
       "      <td>Krieg</td>\n",
       "      <td>267</td>\n",
       "      <td>0.028865</td>\n",
       "      <td>Ukraine</td>\n",
       "    </tr>\n",
       "    <tr>\n",
       "      <th>4</th>\n",
       "      <td>Ukraine-Krieg</td>\n",
       "      <td>228</td>\n",
       "      <td>0.024649</td>\n",
       "      <td>Ukraine</td>\n",
       "    </tr>\n",
       "    <tr>\n",
       "      <th>5</th>\n",
       "      <td>Mariupol</td>\n",
       "      <td>121</td>\n",
       "      <td>0.013081</td>\n",
       "      <td>Ukraine</td>\n",
       "    </tr>\n",
       "    <tr>\n",
       "      <th>...</th>\n",
       "      <td>...</td>\n",
       "      <td>...</td>\n",
       "      <td>...</td>\n",
       "      <td>...</td>\n",
       "    </tr>\n",
       "    <tr>\n",
       "      <th>219</th>\n",
       "      <td>Indexfonds</td>\n",
       "      <td>1</td>\n",
       "      <td>0.000556</td>\n",
       "      <td>Börse</td>\n",
       "    </tr>\n",
       "    <tr>\n",
       "      <th>220</th>\n",
       "      <td>ETF</td>\n",
       "      <td>1</td>\n",
       "      <td>0.000556</td>\n",
       "      <td>Börse</td>\n",
       "    </tr>\n",
       "    <tr>\n",
       "      <th>221</th>\n",
       "      <td>Importstopp</td>\n",
       "      <td>1</td>\n",
       "      <td>0.000556</td>\n",
       "      <td>Börse</td>\n",
       "    </tr>\n",
       "    <tr>\n",
       "      <th>222</th>\n",
       "      <td>Aktie</td>\n",
       "      <td>1</td>\n",
       "      <td>0.000556</td>\n",
       "      <td>Börse</td>\n",
       "    </tr>\n",
       "    <tr>\n",
       "      <th>223</th>\n",
       "      <td>2022</td>\n",
       "      <td>1</td>\n",
       "      <td>0.000556</td>\n",
       "      <td>Börse</td>\n",
       "    </tr>\n",
       "  </tbody>\n",
       "</table>\n",
       "<p>7578 rows × 4 columns</p>\n",
       "</div>"
      ],
      "text/plain": [
       "            target  count  rel_count   source\n",
       "1         Russland    967   0.104541  Ukraine\n",
       "2         Liveblog    304   0.032865  Ukraine\n",
       "3            Krieg    267   0.028865  Ukraine\n",
       "4    Ukraine-Krieg    228   0.024649  Ukraine\n",
       "5         Mariupol    121   0.013081  Ukraine\n",
       "..             ...    ...        ...      ...\n",
       "219     Indexfonds      1   0.000556    Börse\n",
       "220            ETF      1   0.000556    Börse\n",
       "221    Importstopp      1   0.000556    Börse\n",
       "222          Aktie      1   0.000556    Börse\n",
       "223           2022      1   0.000556    Börse\n",
       "\n",
       "[7578 rows x 4 columns]"
      ]
     },
     "execution_count": 477,
     "metadata": {},
     "output_type": "execute_result"
    }
   ],
   "source": [
    "df_source_target_mapping"
   ]
  },
  {
   "cell_type": "code",
   "execution_count": 478,
   "metadata": {},
   "outputs": [
    {
     "data": {
      "text/html": [
       "<div>\n",
       "<style scoped>\n",
       "    .dataframe tbody tr th:only-of-type {\n",
       "        vertical-align: middle;\n",
       "    }\n",
       "\n",
       "    .dataframe tbody tr th {\n",
       "        vertical-align: top;\n",
       "    }\n",
       "\n",
       "    .dataframe thead th {\n",
       "        text-align: right;\n",
       "    }\n",
       "</style>\n",
       "<table border=\"1\" class=\"dataframe\">\n",
       "  <thead>\n",
       "    <tr style=\"text-align: right;\">\n",
       "      <th></th>\n",
       "      <th>target</th>\n",
       "      <th>count</th>\n",
       "      <th>rel_count</th>\n",
       "      <th>source</th>\n",
       "    </tr>\n",
       "  </thead>\n",
       "  <tbody>\n",
       "    <tr>\n",
       "      <th>1</th>\n",
       "      <td>Russland</td>\n",
       "      <td>967</td>\n",
       "      <td>0.104541</td>\n",
       "      <td>Ukraine</td>\n",
       "    </tr>\n",
       "    <tr>\n",
       "      <th>2</th>\n",
       "      <td>Liveblog</td>\n",
       "      <td>304</td>\n",
       "      <td>0.032865</td>\n",
       "      <td>Ukraine</td>\n",
       "    </tr>\n",
       "    <tr>\n",
       "      <th>3</th>\n",
       "      <td>Krieg</td>\n",
       "      <td>267</td>\n",
       "      <td>0.028865</td>\n",
       "      <td>Ukraine</td>\n",
       "    </tr>\n",
       "    <tr>\n",
       "      <th>4</th>\n",
       "      <td>Ukraine-Krieg</td>\n",
       "      <td>228</td>\n",
       "      <td>0.024649</td>\n",
       "      <td>Ukraine</td>\n",
       "    </tr>\n",
       "    <tr>\n",
       "      <th>5</th>\n",
       "      <td>Mariupol</td>\n",
       "      <td>121</td>\n",
       "      <td>0.013081</td>\n",
       "      <td>Ukraine</td>\n",
       "    </tr>\n",
       "    <tr>\n",
       "      <th>...</th>\n",
       "      <td>...</td>\n",
       "      <td>...</td>\n",
       "      <td>...</td>\n",
       "      <td>...</td>\n",
       "    </tr>\n",
       "    <tr>\n",
       "      <th>10</th>\n",
       "      <td>Aktien</td>\n",
       "      <td>24</td>\n",
       "      <td>0.013356</td>\n",
       "      <td>Börse</td>\n",
       "    </tr>\n",
       "    <tr>\n",
       "      <th>11</th>\n",
       "      <td>Kurssturz</td>\n",
       "      <td>22</td>\n",
       "      <td>0.012243</td>\n",
       "      <td>Börse</td>\n",
       "    </tr>\n",
       "    <tr>\n",
       "      <th>12</th>\n",
       "      <td>Tesla</td>\n",
       "      <td>21</td>\n",
       "      <td>0.011686</td>\n",
       "      <td>Börse</td>\n",
       "    </tr>\n",
       "    <tr>\n",
       "      <th>13</th>\n",
       "      <td>Geldanlage</td>\n",
       "      <td>21</td>\n",
       "      <td>0.011686</td>\n",
       "      <td>Börse</td>\n",
       "    </tr>\n",
       "    <tr>\n",
       "      <th>14</th>\n",
       "      <td>Apple</td>\n",
       "      <td>20</td>\n",
       "      <td>0.011130</td>\n",
       "      <td>Börse</td>\n",
       "    </tr>\n",
       "  </tbody>\n",
       "</table>\n",
       "<p>143 rows × 4 columns</p>\n",
       "</div>"
      ],
      "text/plain": [
       "           target  count  rel_count   source\n",
       "1        Russland    967   0.104541  Ukraine\n",
       "2        Liveblog    304   0.032865  Ukraine\n",
       "3           Krieg    267   0.028865  Ukraine\n",
       "4   Ukraine-Krieg    228   0.024649  Ukraine\n",
       "5        Mariupol    121   0.013081  Ukraine\n",
       "..            ...    ...        ...      ...\n",
       "10         Aktien     24   0.013356    Börse\n",
       "11      Kurssturz     22   0.012243    Börse\n",
       "12          Tesla     21   0.011686    Börse\n",
       "13     Geldanlage     21   0.011686    Börse\n",
       "14          Apple     20   0.011130    Börse\n",
       "\n",
       "[143 rows x 4 columns]"
      ]
     },
     "execution_count": 478,
     "metadata": {},
     "output_type": "execute_result"
    }
   ],
   "source": [
    "df_source_target_mapping.query(\"rel_count > 0.01\")"
   ]
  },
  {
   "cell_type": "code",
   "execution_count": 479,
   "metadata": {},
   "outputs": [
    {
     "data": {
      "text/plain": [
       "<AxesSubplot:xlabel='count', ylabel='target'>"
      ]
     },
     "execution_count": 479,
     "metadata": {},
     "output_type": "execute_result"
    },
    {
     "data": {
      "image/png": "[encoded data removed]",
      "text/plain": [
       "<Figure size 640x480 with 1 Axes>"
      ]
     },
     "metadata": {},
     "output_type": "display_data"
    }
   ],
   "source": [
    "fig, ax = plt.subplots()\n",
    "sns.barplot(data=df_source_target_mapping.query(\"(rel_count > 0.01) & (source == 'Russland')\"), y='target', x='count', color='C0')"
   ]
  },
  {
   "cell_type": "markdown",
   "metadata": {},
   "source": [
    "## Topic modeling"
   ]
  },
  {
   "cell_type": "code",
   "execution_count": 480,
   "metadata": {},
   "outputs": [
    {
     "name": "stdout",
     "output_type": "stream",
     "text": [
      "['Ukraine', 'Russland', 'Coronavirus', 'USA', 'Energiekrise', 'EU', 'Ukraine-Krieg', 'China', 'Liveblog', 'Inflation', 'Investigativ', 'Krieg', 'DAX', 'Scholz', 'Börse']\n"
     ]
    }
   ],
   "source": [
    "topics = df_source_target_mapping['source'].unique().tolist()\n",
    "print(topics)"
   ]
  },
  {
   "cell_type": "markdown",
   "metadata": {},
   "source": [
    "There are several ways to create all pairs from a list in Python, depending on the desired output format and level of complexity. Here we are using the module itertools"
   ]
  },
  {
   "cell_type": "code",
   "execution_count": 481,
   "metadata": {},
   "outputs": [
    {
     "name": "stdout",
     "output_type": "stream",
     "text": [
      "[('Ukraine', 'Russland'), ('Ukraine', 'Coronavirus'), ('Ukraine', 'USA'), ('Ukraine', 'Energiekrise'), ('Ukraine', 'EU'), ('Ukraine', 'Ukraine-Krieg'), ('Ukraine', 'China'), ('Ukraine', 'Liveblog'), ('Ukraine', 'Inflation'), ('Ukraine', 'Investigativ'), ('Ukraine', 'Krieg'), ('Ukraine', 'DAX'), ('Ukraine', 'Scholz'), ('Ukraine', 'Börse'), ('Russland', 'Coronavirus'), ('Russland', 'USA'), ('Russland', 'Energiekrise'), ('Russland', 'EU'), ('Russland', 'Ukraine-Krieg'), ('Russland', 'China'), ('Russland', 'Liveblog'), ('Russland', 'Inflation'), ('Russland', 'Investigativ'), ('Russland', 'Krieg'), ('Russland', 'DAX'), ('Russland', 'Scholz'), ('Russland', 'Börse'), ('Coronavirus', 'USA'), ('Coronavirus', 'Energiekrise'), ('Coronavirus', 'EU'), ('Coronavirus', 'Ukraine-Krieg'), ('Coronavirus', 'China'), ('Coronavirus', 'Liveblog'), ('Coronavirus', 'Inflation'), ('Coronavirus', 'Investigativ'), ('Coronavirus', 'Krieg'), ('Coronavirus', 'DAX'), ('Coronavirus', 'Scholz'), ('Coronavirus', 'Börse'), ('USA', 'Energiekrise'), ('USA', 'EU'), ('USA', 'Ukraine-Krieg'), ('USA', 'China'), ('USA', 'Liveblog'), ('USA', 'Inflation'), ('USA', 'Investigativ'), ('USA', 'Krieg'), ('USA', 'DAX'), ('USA', 'Scholz'), ('USA', 'Börse'), ('Energiekrise', 'EU'), ('Energiekrise', 'Ukraine-Krieg'), ('Energiekrise', 'China'), ('Energiekrise', 'Liveblog'), ('Energiekrise', 'Inflation'), ('Energiekrise', 'Investigativ'), ('Energiekrise', 'Krieg'), ('Energiekrise', 'DAX'), ('Energiekrise', 'Scholz'), ('Energiekrise', 'Börse'), ('EU', 'Ukraine-Krieg'), ('EU', 'China'), ('EU', 'Liveblog'), ('EU', 'Inflation'), ('EU', 'Investigativ'), ('EU', 'Krieg'), ('EU', 'DAX'), ('EU', 'Scholz'), ('EU', 'Börse'), ('Ukraine-Krieg', 'China'), ('Ukraine-Krieg', 'Liveblog'), ('Ukraine-Krieg', 'Inflation'), ('Ukraine-Krieg', 'Investigativ'), ('Ukraine-Krieg', 'Krieg'), ('Ukraine-Krieg', 'DAX'), ('Ukraine-Krieg', 'Scholz'), ('Ukraine-Krieg', 'Börse'), ('China', 'Liveblog'), ('China', 'Inflation'), ('China', 'Investigativ'), ('China', 'Krieg'), ('China', 'DAX'), ('China', 'Scholz'), ('China', 'Börse'), ('Liveblog', 'Inflation'), ('Liveblog', 'Investigativ'), ('Liveblog', 'Krieg'), ('Liveblog', 'DAX'), ('Liveblog', 'Scholz'), ('Liveblog', 'Börse'), ('Inflation', 'Investigativ'), ('Inflation', 'Krieg'), ('Inflation', 'DAX'), ('Inflation', 'Scholz'), ('Inflation', 'Börse'), ('Investigativ', 'Krieg'), ('Investigativ', 'DAX'), ('Investigativ', 'Scholz'), ('Investigativ', 'Börse'), ('Krieg', 'DAX'), ('Krieg', 'Scholz'), ('Krieg', 'Börse'), ('DAX', 'Scholz'), ('DAX', 'Börse'), ('Scholz', 'Börse')]\n"
     ]
    }
   ],
   "source": [
    "\n",
    "tag_pairs = list(itertools.combinations(topics, 2))\n",
    "print(tag_pairs)\n"
   ]
  },
  {
   "cell_type": "code",
   "execution_count": 482,
   "metadata": {},
   "outputs": [],
   "source": [
    "multi_index = pd.MultiIndex.from_tuples(tag_pairs)\n",
    "df_tag_mapping = pd.DataFrame(data={'tags': None, 'score': None}, index=multi_index)\n",
    "\n",
    "for tag_pair in tag_pairs:\n",
    "    tag_series = [df_source_target_mapping.query(\"(rel_count > 0.005) & (source == @tag)\")['target'] for tag in tag_pair]\n",
    "    mask = tag_series[0].isin(tag_series[1])\n",
    "    intersection = {\n",
    "        'tags': tag_series[0][mask].to_list(),\n",
    "        'score': mask.sum() / len(mask)\n",
    "    }\n",
    "    for key in intersection.keys():\n",
    "        df_tag_mapping.loc[tag_pair, key] = intersection[key]\n",
    "\n"
   ]
  },
  {
   "cell_type": "code",
   "execution_count": 483,
   "metadata": {},
   "outputs": [
    {
     "data": {
      "text/html": [
       "<div>\n",
       "<style scoped>\n",
       "    .dataframe tbody tr th:only-of-type {\n",
       "        vertical-align: middle;\n",
       "    }\n",
       "\n",
       "    .dataframe tbody tr th {\n",
       "        vertical-align: top;\n",
       "    }\n",
       "\n",
       "    .dataframe thead th {\n",
       "        text-align: right;\n",
       "    }\n",
       "</style>\n",
       "<table border=\"1\" class=\"dataframe\">\n",
       "  <thead>\n",
       "    <tr style=\"text-align: right;\">\n",
       "      <th></th>\n",
       "      <th></th>\n",
       "      <th>tags</th>\n",
       "      <th>score</th>\n",
       "    </tr>\n",
       "  </thead>\n",
       "  <tbody>\n",
       "    <tr>\n",
       "      <th rowspan=\"2\" valign=\"top\">Ukraine</th>\n",
       "      <th>Russland</th>\n",
       "      <td>[Krieg, Ukraine-Krieg, Mariupol, Putin, EU, Se...</td>\n",
       "      <td>0.625</td>\n",
       "    </tr>\n",
       "    <tr>\n",
       "      <th>Ukraine-Krieg</th>\n",
       "      <td>[Russland, Liveblog, Putin, EU, Selenskyj, Sch...</td>\n",
       "      <td>0.625</td>\n",
       "    </tr>\n",
       "    <tr>\n",
       "      <th rowspan=\"2\" valign=\"top\">Liveblog</th>\n",
       "      <th>Investigativ</th>\n",
       "      <td>[Ukraine, Coronavirus, Ukraine-Krieg, Russland]</td>\n",
       "      <td>1.0</td>\n",
       "    </tr>\n",
       "    <tr>\n",
       "      <th>Scholz</th>\n",
       "      <td>[Ukraine, Ukraine-Krieg, Russland]</td>\n",
       "      <td>0.75</td>\n",
       "    </tr>\n",
       "    <tr>\n",
       "      <th>DAX</th>\n",
       "      <th>Börse</th>\n",
       "      <td>[Dow Jones, Marktbericht, Fed, Gold, Inflation...</td>\n",
       "      <td>0.909091</td>\n",
       "    </tr>\n",
       "  </tbody>\n",
       "</table>\n",
       "</div>"
      ],
      "text/plain": [
       "                                                                     tags  \\\n",
       "Ukraine  Russland       [Krieg, Ukraine-Krieg, Mariupol, Putin, EU, Se...   \n",
       "         Ukraine-Krieg  [Russland, Liveblog, Putin, EU, Selenskyj, Sch...   \n",
       "Liveblog Investigativ     [Ukraine, Coronavirus, Ukraine-Krieg, Russland]   \n",
       "         Scholz                        [Ukraine, Ukraine-Krieg, Russland]   \n",
       "DAX      Börse          [Dow Jones, Marktbericht, Fed, Gold, Inflation...   \n",
       "\n",
       "                           score  \n",
       "Ukraine  Russland          0.625  \n",
       "         Ukraine-Krieg     0.625  \n",
       "Liveblog Investigativ        1.0  \n",
       "         Scholz             0.75  \n",
       "DAX      Börse          0.909091  "
      ]
     },
     "execution_count": 483,
     "metadata": {},
     "output_type": "execute_result"
    }
   ],
   "source": [
    "df_tag_mapping.query(\"score > 0.5\")"
   ]
  },
  {
   "cell_type": "code",
   "execution_count": 484,
   "metadata": {},
   "outputs": [],
   "source": [
    "aggregated_topics = pd.DataFrame(df_tag_mapping.query(\"score > 0.5\").index.tolist(), columns=['tag_1', 'tag_2'])\\\n",
    "    .groupby('tag_1')\\\n",
    "    .agg(lambda x: ','.join(x)).reset_index()\\\n",
    "    .apply(lambda x: ','.join(x), axis=1)\\\n",
    "    .tolist()"
   ]
  },
  {
   "cell_type": "code",
   "execution_count": 485,
   "metadata": {},
   "outputs": [
    {
     "name": "stdout",
     "output_type": "stream",
     "text": [
      "Topics:  ['Ukraine', 'Russland', 'Coronavirus', 'USA', 'Energiekrise', 'EU', 'Ukraine-Krieg', 'China', 'Liveblog', 'Inflation', 'Investigativ', 'Krieg', 'DAX', 'Scholz', 'Börse']\n",
      "Aggregated topics:  ['DAX,Börse', 'Liveblog,Investigativ,Scholz', 'Ukraine,Russland,Ukraine-Krieg']\n"
     ]
    }
   ],
   "source": [
    "print(\"Topics: \", topics)\n",
    "print(\"Aggregated topics: \", aggregated_topics)"
   ]
  },
  {
   "cell_type": "code",
   "execution_count": 486,
   "metadata": {},
   "outputs": [
    {
     "name": "stdout",
     "output_type": "stream",
     "text": [
      "New topics:  ['Coronavirus', 'Ukraine,Russland,Ukraine-Krieg', 'EU', 'Liveblog,Investigativ,Scholz', 'USA', 'Krieg', 'China', 'Energiekrise', 'DAX,Börse', 'Inflation']\n"
     ]
    }
   ],
   "source": [
    "topics_to_remove = ','.join(aggregated_topics).split(',')\n",
    "new_topics = list(set(topics).difference(set(topics_to_remove)).union(aggregated_topics))\n",
    "print(\"New topics: \", new_topics)"
   ]
  },
  {
   "cell_type": "code",
   "execution_count": 490,
   "metadata": {},
   "outputs": [],
   "source": [
    "df_topics = pd.DataFrame(columns=['topic','tag','count'])\n",
    "for topic in new_topics:\n",
    "    df_tmp = pd.DataFrame()\n",
    "    df_tmp[['tag', 'count']] = df_source_target_mapping.query(\"source in @topic.split(',')\")[['target', 'count']].values\n",
    "    df_tmp['topic'] = topic\n",
    "    df_topics = pd.concat([df_topics, df_tmp])\n",
    "    \n",
    "df_topics = df_topics.groupby(['topic', 'tag']).agg({'count': 'sum'}).reset_index()\n",
    "df_topics['rel_count'] = df_topics.groupby('topic')['count'].transform(lambda x: x / x.sum())\n",
    "df_topics['rank'] = df_topics.groupby('topic')['count'].rank(method='average', ascending=False)\n",
    "df_topics = df_topics.sort_values(['topic','rank'], ascending=[True, True]).set_index(['topic', 'rank'])\n",
    "# test\n",
    "# df_tmp.groupby('topic').agg({'rel_count': 'sum'})"
   ]
  },
  {
   "cell_type": "code",
   "execution_count": 501,
   "metadata": {},
   "outputs": [
    {
     "data": {
      "text/html": [
       "<div>\n",
       "<style scoped>\n",
       "    .dataframe tbody tr th:only-of-type {\n",
       "        vertical-align: middle;\n",
       "    }\n",
       "\n",
       "    .dataframe tbody tr th {\n",
       "        vertical-align: top;\n",
       "    }\n",
       "\n",
       "    .dataframe thead th {\n",
       "        text-align: right;\n",
       "    }\n",
       "</style>\n",
       "<table border=\"1\" class=\"dataframe\">\n",
       "  <thead>\n",
       "    <tr style=\"text-align: right;\">\n",
       "      <th></th>\n",
       "      <th></th>\n",
       "      <th>tag</th>\n",
       "      <th>count</th>\n",
       "      <th>rel_count</th>\n",
       "    </tr>\n",
       "    <tr>\n",
       "      <th>topic</th>\n",
       "      <th>rank</th>\n",
       "      <th></th>\n",
       "      <th></th>\n",
       "      <th></th>\n",
       "    </tr>\n",
       "  </thead>\n",
       "  <tbody>\n",
       "    <tr>\n",
       "      <th rowspan=\"5\" valign=\"top\">China</th>\n",
       "      <th>1.0</th>\n",
       "      <td>Coronavirus</td>\n",
       "      <td>86</td>\n",
       "      <td>0.071786</td>\n",
       "    </tr>\n",
       "    <tr>\n",
       "      <th>2.0</th>\n",
       "      <td>Russland</td>\n",
       "      <td>43</td>\n",
       "      <td>0.035893</td>\n",
       "    </tr>\n",
       "    <tr>\n",
       "      <th>3.0</th>\n",
       "      <td>Taiwan</td>\n",
       "      <td>37</td>\n",
       "      <td>0.030885</td>\n",
       "    </tr>\n",
       "    <tr>\n",
       "      <th>4.0</th>\n",
       "      <td>USA</td>\n",
       "      <td>27</td>\n",
       "      <td>0.022538</td>\n",
       "    </tr>\n",
       "    <tr>\n",
       "      <th>6.0</th>\n",
       "      <td>Lockdown</td>\n",
       "      <td>24</td>\n",
       "      <td>0.020033</td>\n",
       "    </tr>\n",
       "    <tr>\n",
       "      <th>...</th>\n",
       "      <th>...</th>\n",
       "      <td>...</td>\n",
       "      <td>...</td>\n",
       "      <td>...</td>\n",
       "    </tr>\n",
       "    <tr>\n",
       "      <th rowspan=\"5\" valign=\"top\">Ukraine,Russland,Ukraine-Krieg</th>\n",
       "      <th>1308.5</th>\n",
       "      <td>Ärzte</td>\n",
       "      <td>1</td>\n",
       "      <td>0.000079</td>\n",
       "    </tr>\n",
       "    <tr>\n",
       "      <th>1308.5</th>\n",
       "      <td>Ölkonzerne</td>\n",
       "      <td>1</td>\n",
       "      <td>0.000079</td>\n",
       "    </tr>\n",
       "    <tr>\n",
       "      <th>1308.5</th>\n",
       "      <td>Übernahme</td>\n",
       "      <td>1</td>\n",
       "      <td>0.000079</td>\n",
       "    </tr>\n",
       "    <tr>\n",
       "      <th>1308.5</th>\n",
       "      <td>Новини</td>\n",
       "      <td>1</td>\n",
       "      <td>0.000079</td>\n",
       "    </tr>\n",
       "    <tr>\n",
       "      <th>1308.5</th>\n",
       "      <td>Новости</td>\n",
       "      <td>1</td>\n",
       "      <td>0.000079</td>\n",
       "    </tr>\n",
       "  </tbody>\n",
       "</table>\n",
       "<p>6283 rows × 3 columns</p>\n",
       "</div>"
      ],
      "text/plain": [
       "                                               tag count rel_count\n",
       "topic                          rank                               \n",
       "China                          1.0     Coronavirus    86  0.071786\n",
       "                               2.0        Russland    43  0.035893\n",
       "                               3.0          Taiwan    37  0.030885\n",
       "                               4.0             USA    27  0.022538\n",
       "                               6.0        Lockdown    24  0.020033\n",
       "...                                            ...   ...       ...\n",
       "Ukraine,Russland,Ukraine-Krieg 1308.5        Ärzte     1  0.000079\n",
       "                               1308.5   Ölkonzerne     1  0.000079\n",
       "                               1308.5    Übernahme     1  0.000079\n",
       "                               1308.5       Новини     1  0.000079\n",
       "                               1308.5      Новости     1  0.000079\n",
       "\n",
       "[6283 rows x 3 columns]"
      ]
     },
     "execution_count": 501,
     "metadata": {},
     "output_type": "execute_result"
    }
   ],
   "source": [
    "df_topics"
   ]
  },
  {
   "cell_type": "markdown",
   "metadata": {},
   "source": [
    "# Group tags"
   ]
  },
  {
   "cell_type": "code",
   "execution_count": null,
   "metadata": {},
   "outputs": [],
   "source": [
    "from time import time\n",
    "\n",
    "from sklearn.feature_extraction.text import TfidfVectorizer, CountVectorizer\n",
    "from sklearn.decomposition import LatentDirichletAllocation\n"
   ]
  },
  {
   "cell_type": "code",
   "execution_count": null,
   "metadata": {},
   "outputs": [],
   "source": [
    "def custom_analyzer(comma_separated_tags):\n",
    "    return [x.split(',') for x in comma_separated_tags]"
   ]
  },
  {
   "cell_type": "code",
   "execution_count": null,
   "metadata": {},
   "outputs": [],
   "source": [
    "data_samples = df_news['tags'].apply(lambda x: x.split(',')).tolist()"
   ]
  },
  {
   "cell_type": "code",
   "execution_count": null,
   "metadata": {},
   "outputs": [],
   "source": [
    "# create a dictionary for all tags used and assign integers to each tag\n",
    "# all tags\n",
    "all_tags = []\n",
    "for tags_in_article in data_samples:\n",
    "    all_tags.extend(tags_in_article)"
   ]
  },
  {
   "cell_type": "code",
   "execution_count": null,
   "metadata": {},
   "outputs": [],
   "source": [
    "# What are the top tags used?\n",
    "\n",
    "top_tags = df_tags_counts['tag'].values"
   ]
  },
  {
   "cell_type": "code",
   "execution_count": null,
   "metadata": {},
   "outputs": [],
   "source": [
    "unique_tags = sorted(set(top_tags))\n",
    "vocabulary = {key: value for key, value in zip(unique_tags, range(len(unique_tags)))}\n",
    "\n",
    "tag_to_index = {key: value for key, value in zip(unique_tags, range(len(unique_tags)))}\n",
    "index_to_tag = {key: value for key, value in enumerate(unique_tags)}"
   ]
  },
  {
   "cell_type": "code",
   "execution_count": null,
   "metadata": {},
   "outputs": [],
   "source": [
    "# vectorize the article tags with the vocabulary mapping\n",
    "# example:\n",
    "# [['Corona', 'Liveblog'], ['Frankreich', 'Corona']] --> [[1, 2], [3, 1]]\n",
    "\n",
    "test_input = ['Corona', 'Liveblog', 'Test']\n",
    "test_output = [1, 2]\n",
    "test_vocabulary = {'Corona': 1, 'Liveblog': 2, 'Frankreich': '3'}\n",
    "\n",
    "def vectorize_tags(article_tags, vocabulary):\n",
    "    return [vocabulary[tag] for tag in article_tags if tag in vocabulary]\n",
    "    "
   ]
  },
  {
   "cell_type": "code",
   "execution_count": null,
   "metadata": {},
   "outputs": [],
   "source": [
    "assert vectorize_tags(test_input, test_vocabulary) == test_output"
   ]
  },
  {
   "cell_type": "code",
   "execution_count": null,
   "metadata": {},
   "outputs": [],
   "source": [
    "vectorized_tags = [vectorize_tags(article_tags, tag_to_index) for article_tags in data_samples]"
   ]
  },
  {
   "cell_type": "code",
   "execution_count": null,
   "metadata": {},
   "outputs": [],
   "source": [
    "vectorized_tags"
   ]
  },
  {
   "cell_type": "code",
   "execution_count": null,
   "metadata": {},
   "outputs": [],
   "source": [
    "test_input = [[1, 2, 4], [2, 3, 1], [5, 4, 1]]\n",
    "test_vocabulary_id = [0, 1, 2, 3, 4, 5]"
   ]
  },
  {
   "cell_type": "code",
   "execution_count": null,
   "metadata": {},
   "outputs": [],
   "source": [
    "import numpy as np"
   ]
  },
  {
   "cell_type": "code",
   "execution_count": null,
   "metadata": {},
   "outputs": [],
   "source": [
    "# [1, 2, 4] -> [0, 1, 1, 0, 1, 0]\n",
    "# [2, 3, 1] -> [0, 1, 1, 1, 0, 0]\n",
    "\n",
    "# 1. get first id in doc\n",
    "# 2. increment position with 1 in target vector\n",
    "# 3. get next id in doc and do 2. again\n",
    "\n",
    "def count_vectorize(doc_ids, vocabulary):\n",
    "    num_docs = len(doc_ids)\n",
    "    num_vocabulary_entities = len(vocabulary.values())\n",
    "    vectors = np.zeros((num_docs, num_vocabulary_entities), dtype=int)\n",
    "    for doc_count, doc in enumerate((doc_ids)):\n",
    "        for id in doc:\n",
    "            vectors[doc_count, id] += 1\n",
    "    return vectors\n"
   ]
  },
  {
   "cell_type": "code",
   "execution_count": null,
   "metadata": {},
   "outputs": [],
   "source": [
    "doc_ids_test = [[1, 2], [2, 3], [0], []]\n",
    "vocabulary_test = {'a':0, 'b':1, 'c':2, 'd':3}\n",
    "\n",
    "count_vectorize(doc_ids_test, vocabulary_test)"
   ]
  },
  {
   "cell_type": "code",
   "execution_count": null,
   "metadata": {},
   "outputs": [],
   "source": [
    "count_vectorized = count_vectorize(vectorized_tags, tag_to_index)"
   ]
  },
  {
   "cell_type": "code",
   "execution_count": null,
   "metadata": {},
   "outputs": [],
   "source": [
    "# get tfidf results\n",
    "from sklearn.feature_extraction.text import TfidfTransformer"
   ]
  },
  {
   "cell_type": "code",
   "execution_count": null,
   "metadata": {},
   "outputs": [],
   "source": [
    "tfidf = TfidfTransformer()"
   ]
  },
  {
   "cell_type": "code",
   "execution_count": null,
   "metadata": {},
   "outputs": [],
   "source": [
    "tfidf_vectorized = tfidf.fit_transform(count_vectorized)"
   ]
  },
  {
   "cell_type": "code",
   "execution_count": null,
   "metadata": {},
   "outputs": [],
   "source": [
    "# Reduce dimensionality\n",
    "from sklearn.decomposition import TruncatedSVD"
   ]
  },
  {
   "cell_type": "code",
   "execution_count": null,
   "metadata": {},
   "outputs": [],
   "source": [
    "tsvd = TruncatedSVD(n_components=10)\n",
    "tsvd.fit(tfidf_vectorized)"
   ]
  },
  {
   "cell_type": "code",
   "execution_count": null,
   "metadata": {},
   "outputs": [],
   "source": [
    "tsvd.explained_variance_ratio_"
   ]
  },
  {
   "cell_type": "code",
   "execution_count": null,
   "metadata": {},
   "outputs": [],
   "source": [
    "X_tsvd = tsvd.transform(tfidf_vectorized)"
   ]
  },
  {
   "cell_type": "code",
   "execution_count": null,
   "metadata": {},
   "outputs": [],
   "source": [
    "from sklearn.cluster import KMeans"
   ]
  },
  {
   "cell_type": "code",
   "execution_count": null,
   "metadata": {},
   "outputs": [],
   "source": [
    "kmeans = KMeans(n_clusters=5, max_iter=100, n_init=1)"
   ]
  },
  {
   "cell_type": "code",
   "execution_count": null,
   "metadata": {},
   "outputs": [],
   "source": [
    "kmeans.fit(X_tsvd)"
   ]
  },
  {
   "cell_type": "code",
   "execution_count": null,
   "metadata": {},
   "outputs": [],
   "source": [
    "cluster_ids, cluster_sizes = np.unique(kmeans.labels_, return_counts=True)"
   ]
  },
  {
   "cell_type": "code",
   "execution_count": null,
   "metadata": {},
   "outputs": [],
   "source": [
    "cluster_sizes"
   ]
  },
  {
   "cell_type": "code",
   "execution_count": null,
   "metadata": {},
   "outputs": [],
   "source": [
    "[index_to_tag[index] for index in tsvd.inverse_transform(kmeans.cluster_centers_).argsort()[:, ::-1][4]]"
   ]
  },
  {
   "cell_type": "code",
   "execution_count": null,
   "metadata": {},
   "outputs": [],
   "source": [
    "kmeans.cluster_centers_"
   ]
  },
  {
   "cell_type": "code",
   "execution_count": null,
   "metadata": {},
   "outputs": [],
   "source": [
    "lda = LatentDirichletAllocation()\n",
    "lda.fit(count_vectorized)"
   ]
  },
  {
   "cell_type": "code",
   "execution_count": null,
   "metadata": {},
   "outputs": [],
   "source": [
    "lda.transform(vectorized_tfidf[-2:])"
   ]
  },
  {
   "cell_type": "code",
   "execution_count": null,
   "metadata": {},
   "outputs": [],
   "source": [
    "lda.components_.shape"
   ]
  },
  {
   "cell_type": "code",
   "execution_count": null,
   "metadata": {},
   "outputs": [],
   "source": [
    "topic = lda.components_[0]"
   ]
  },
  {
   "cell_type": "code",
   "execution_count": null,
   "metadata": {},
   "outputs": [],
   "source": [
    "topic"
   ]
  },
  {
   "cell_type": "code",
   "execution_count": null,
   "metadata": {},
   "outputs": [],
   "source": [
    "top_words = topic.argsort()[:-20:-1]"
   ]
  },
  {
   "cell_type": "code",
   "execution_count": null,
   "metadata": {},
   "outputs": [],
   "source": [
    "[index_to_tag[index] for index in top_words]"
   ]
  },
  {
   "cell_type": "code",
   "execution_count": null,
   "metadata": {},
   "outputs": [],
   "source": [
    "from gensim import utils"
   ]
  },
  {
   "cell_type": "code",
   "execution_count": null,
   "metadata": {},
   "outputs": [],
   "source": [
    "utils.simple_preprocess(\"This is a simple line\")"
   ]
  },
  {
   "cell_type": "code",
   "execution_count": null,
   "metadata": {},
   "outputs": [],
   "source": [
    "import gensim.models"
   ]
  },
  {
   "cell_type": "code",
   "execution_count": null,
   "metadata": {},
   "outputs": [],
   "source": [
    "model = gensim.models.Word2Vec(sentences=data_samples, window=2, vector_size=100)"
   ]
  },
  {
   "cell_type": "code",
   "execution_count": null,
   "metadata": {},
   "outputs": [],
   "source": [
    "model.wv['EU']"
   ]
  },
  {
   "cell_type": "code",
   "execution_count": null,
   "metadata": {},
   "outputs": [],
   "source": [
    "all_tags_series.sample(1)"
   ]
  },
  {
   "cell_type": "code",
   "execution_count": null,
   "metadata": {},
   "outputs": [],
   "source": [
    "print(model.wv.wmdistance([\"USA\"], [\"Homeoffice\"]))\n",
    "print(model.wv.wmdistance([\"USA\"], [\"Biden\"]))\n",
    "print(model.wv.wmdistance([\"USA\"], [\"Ukraine\"]))\n",
    "print(model.wv.wmdistance([\"Krieg\"], [\"Ukraine\"]))\n",
    "print(model.wv.wmdistance([\"Krieg\"], [\"Mondmission\"]))\n",
    "print(model.wv.wmdistance([\"Russland\"], [\"Putin\"]))\n",
    "print(model.wv.wmdistance([\"Impfung\"], [\"Putin\"]))"
   ]
  },
  {
   "cell_type": "code",
   "execution_count": null,
   "metadata": {},
   "outputs": [],
   "source": [
    "print(model.wv.most_similar([\"Landtagswahl\"], topn=100))"
   ]
  },
  {
   "cell_type": "code",
   "execution_count": null,
   "metadata": {},
   "outputs": [],
   "source": [
    "from sklearn.decomposition import IncrementalPCA    # inital reduction\n",
    "from sklearn.manifold import TSNE                   # final reduction\n",
    "import numpy as np                                  # array handling\n",
    "\n",
    "\n",
    "def reduce_dimensions(model):\n",
    "    num_dimensions = 2  # final num dimensions (2D, 3D, etc)\n",
    "\n",
    "    # extract the words & their vectors, as numpy arrays\n",
    "    vectors = np.asarray(model.wv.vectors)\n",
    "    labels = np.asarray(model.wv.index_to_key)  # fixed-width numpy strings\n",
    "\n",
    "    # reduce using t-SNE\n",
    "    tsne = TSNE(n_components=num_dimensions, random_state=0)\n",
    "    vectors = tsne.fit_transform(vectors)\n",
    "\n",
    "    x_vals = [v[0] for v in vectors]\n",
    "    y_vals = [v[1] for v in vectors]\n",
    "    return x_vals, y_vals, labels\n",
    "\n",
    "\n",
    "x_vals, y_vals, labels = reduce_dimensions(model)\n",
    "\n",
    "def plot_with_plotly(x_vals, y_vals, labels, plot_in_notebook=True):\n",
    "    from plotly.offline import init_notebook_mode, iplot, plot\n",
    "    import plotly.graph_objs as go\n",
    "\n",
    "    trace = go.Scatter(x=x_vals, y=y_vals, mode='text', text=labels)\n",
    "    data = [trace]\n",
    "\n",
    "    if plot_in_notebook:\n",
    "        init_notebook_mode(connected=True)\n",
    "        iplot(data, filename='word-embedding-plot')\n",
    "    else:\n",
    "        plot(data, filename='word-embedding-plot.html')\n",
    "\n",
    "\n",
    "def plot_with_matplotlib(x_vals, y_vals, labels):\n",
    "    import matplotlib.pyplot as plt\n",
    "    import random\n",
    "\n",
    "    random.seed(0)\n",
    "\n",
    "    plt.figure(figsize=(12, 12))\n",
    "    plt.scatter(x_vals, y_vals)\n",
    "\n",
    "    #\n",
    "    # Label randomly subsampled 25 data points\n",
    "    #\n",
    "    indices = list(range(len(labels)))\n",
    "    selected_indices = random.sample(indices, 25)\n",
    "    for i in selected_indices:\n",
    "        plt.annotate(labels[i], (x_vals[i], y_vals[i]))\n",
    "\n",
    "try:\n",
    "    get_ipython()\n",
    "except Exception:\n",
    "    plot_function = plot_with_matplotlib\n",
    "else:\n",
    "    plot_function = plot_with_plotly\n",
    "\n",
    "plot_function(x_vals, y_vals, labels)"
   ]
  },
  {
   "cell_type": "code",
   "execution_count": null,
   "metadata": {},
   "outputs": [],
   "source": []
  }
 ],
 "metadata": {
  "interpreter": {
   "hash": "187b1988031df14b784b1ca83dcf6c508f75d9af158ade7af96a8719ac4cf2b2"
  },
  "kernelspec": {
   "display_name": "Python 3.8.5 ('base')",
   "language": "python",
   "name": "python3"
  },
  "language_info": {
   "codemirror_mode": {
    "name": "ipython",
    "version": 3
   },
   "file_extension": ".py",
   "mimetype": "text/x-python",
   "name": "python",
   "nbconvert_exporter": "python",
   "pygments_lexer": "ipython3",
   "version": "3.8.5"
  },
  "orig_nbformat": 4
 },
 "nbformat": 4,
 "nbformat_minor": 2
}
