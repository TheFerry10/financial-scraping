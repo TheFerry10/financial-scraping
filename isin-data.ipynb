{
 "cells": [
  {
   "cell_type": "code",
   "execution_count": 1,
   "metadata": {},
   "outputs": [],
   "source": [
    "import requests\n",
    "from bs4 import BeautifulSoup\n",
    "import pandas as pd\n",
    "import numpy as np"
   ]
  },
  {
   "cell_type": "code",
   "execution_count": 2,
   "metadata": {},
   "outputs": [],
   "source": [
    "def is_site_check_successful():\n",
    "    url = \"https://www.xetra.com/xetra-de/instrumente/aktien/liste-der-handelbaren-aktien\"\n",
    "    response = requests.get(url=url)\n",
    "    if response.status_code == 200:\n",
    "        soup = BeautifulSoup(response.text, 'html.parser')\n",
    "        results = soup.find('div', {'class': 'results'})\n",
    "        if results:\n",
    "            return \"Ergebnisse\" in results.get_text()\n",
    "        else:\n",
    "            return False\n",
    "    else:\n",
    "        print(\"Not reachable\")\n",
    "        \n",
    "def get_url_for_page(page_number):\n",
    "    base_url = \"https://www.xetra.com/xetra-de/instrumente/aktien/liste-der-handelbaren-aktien\"\n",
    "    search_string = f\"/xetra/3002!search?state=H4sIAAAAAAAAADWKsQoCMRAFf0W2TmFjkw-wsgh42IfkRQNrgrsb5Dju3z2EdDPMbJSj4Sr9Tb4NZvf3pU8rMcGU_LYfXEXtBjPIzK9qGiAhPkH-cnZUW-KRca8GnVNvvIZcyJfICkefAVnJEzkS6GB7VHznrF3saLpUY5yiJtp_lYqXCqQAAAA&sort=sTitle+asc&hitsPerPage=50&pageNum={page_number}\"\n",
    "    return base_url + search_string\n",
    "\n",
    "def get_max_page_value(soup):\n",
    "    page_values_in_nav_panel = []\n",
    "    for page_button in soup.find('ul', {'class': 'nav-page'}).find_all('li'):\n",
    "        page_button = page_button.find('button')\n",
    "        if page_button:\n",
    "            if page_button.attrs.keys() == {'value', 'type', 'title', 'name'}:\n",
    "                value = int(page_button['value'])\n",
    "                page_values_in_nav_panel.append(value)\n",
    "    return max(page_values_in_nav_panel)\n",
    "\n",
    "def get_number_of_stocks_listed(soup):\n",
    "    number_as_string = soup.find('div', {'class': 'results'}).get_text().split()[0]\n",
    "    return int(number_as_string.replace('.',''))"
   ]
  },
  {
   "cell_type": "code",
   "execution_count": 3,
   "metadata": {},
   "outputs": [],
   "source": [
    "response = requests.get(get_url_for_page(0))\n",
    "soup = BeautifulSoup(response.text, 'html.parser')\n",
    "max_page_value = get_max_page_value(soup)\n",
    "number_of_stocks_listed = get_number_of_stocks_listed(soup)"
   ]
  },
  {
   "cell_type": "code",
   "execution_count": 7,
   "metadata": {},
   "outputs": [],
   "source": [
    "# connect to database\n",
    "import sqlite3\n",
    "conn = sqlite3.connect(\"news.db\")\n",
    "c = conn.cursor()"
   ]
  },
  {
   "cell_type": "code",
   "execution_count": 8,
   "metadata": {},
   "outputs": [
    {
     "data": {
      "text/plain": [
       "<sqlite3.Cursor at 0x7f58d3451570>"
      ]
     },
     "execution_count": 8,
     "metadata": {},
     "output_type": "execute_result"
    }
   ],
   "source": [
    "# create table\n",
    "c.execute(\"\"\"\n",
    "          CREATE TABLE IF NOT EXISTS stocks (\n",
    "              ISIN text,\n",
    "              STOCK text,\n",
    "              UNIQUE(ISIN, STOCK)\n",
    "              )\n",
    "          \"\"\")\n"
   ]
  },
  {
   "cell_type": "code",
   "execution_count": 18,
   "metadata": {},
   "outputs": [],
   "source": [
    "class Stock(object):\n",
    "    def __init__(self, ISIN, name):\n",
    "        self.ISIN = ISIN\n",
    "        self.name = name\n",
    "        \n",
    "    def __repr__(self):\n",
    "        repr = f\"Stock({self.ISIN}, {self.name})\"\n",
    "        return repr\n",
    "    "
   ]
  },
  {
   "cell_type": "code",
   "execution_count": 19,
   "metadata": {},
   "outputs": [],
   "source": [
    "def insert_stock(stock):\n",
    "    with conn:\n",
    "        c.execute(\"INSERT OR IGNORE INTO stocks VALUES (:ISIN, :name)\", {'ISIN': stock.ISIN, 'name': stock.name})\n",
    "    "
   ]
  },
  {
   "cell_type": "code",
   "execution_count": 20,
   "metadata": {},
   "outputs": [],
   "source": [
    "for page_number in range(max_page_value+1):\n",
    "    response = requests.get(get_url_for_page(page_number))\n",
    "    if response.status_code == 200:\n",
    "        soup = BeautifulSoup(response.text, 'html.parser')\n",
    "        for item in soup.find('div', {'class':'searchList list'}).find_all('li'):\n",
    "            if (item.find('h4') is not None) & (item.find('p') is not None):\n",
    "                stock_name = item.find('h4').get_text().strip()\n",
    "                isin_number = item.find('p').get_text().split()[-1]\n",
    "                stock = Stock(isin_number, stock_name)\n",
    "                insert_stock(stock)"
   ]
  },
  {
   "cell_type": "code",
   "execution_count": 18,
   "metadata": {},
   "outputs": [
    {
     "name": "stdout",
     "output_type": "stream",
     "text": [
      "Number of stocks listed: 1053\n",
      "Stocks extracted: 100.0 %\n"
     ]
    }
   ],
   "source": [
    "print(f\"Number of stocks listed: {number_of_stocks_listed}\")\n"
   ]
  }
 ],
 "metadata": {
  "interpreter": {
   "hash": "b3577d3b9980a21cfb532b7187d54a40e95e0cbfb62931e8c4ec2f5fbb4bbb23"
  },
  "kernelspec": {
   "display_name": "Python 3.7.13 ('financial_scraping')",
   "language": "python",
   "name": "python3"
  },
  "language_info": {
   "codemirror_mode": {
    "name": "ipython",
    "version": 3
   },
   "file_extension": ".py",
   "mimetype": "text/x-python",
   "name": "python",
   "nbconvert_exporter": "python",
   "pygments_lexer": "ipython3",
   "version": "3.7.13"
  },
  "orig_nbformat": 4
 },
 "nbformat": 4,
 "nbformat_minor": 2
}
