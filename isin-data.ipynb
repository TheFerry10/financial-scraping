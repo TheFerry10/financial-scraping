{
 "cells": [
  {
   "cell_type": "code",
   "execution_count": 1,
   "metadata": {},
   "outputs": [],
   "source": [
    "import requests\n",
    "from bs4 import BeautifulSoup\n",
    "import pandas as pd\n",
    "import numpy as np"
   ]
  },
  {
   "cell_type": "code",
   "execution_count": 2,
   "metadata": {},
   "outputs": [],
   "source": [
    "def is_site_check_successful():\n",
    "    url = \"https://www.xetra.com/xetra-de/instrumente/aktien/liste-der-handelbaren-aktien\"\n",
    "    response = requests.get(url=url)\n",
    "    if response.status_code == 200:\n",
    "        soup = BeautifulSoup(response.text, 'html.parser')\n",
    "        results = soup.find('div', {'class': 'results'})\n",
    "        if results:\n",
    "            return \"Ergebnisse\" in results.get_text()\n",
    "        else:\n",
    "            return False\n",
    "    else:\n",
    "        print(\"Not reachable\")\n",
    "        \n",
    "def get_url_for_page(page_number):\n",
    "    base_url = \"https://www.xetra.com/xetra-de/instrumente/aktien/liste-der-handelbaren-aktien\"\n",
    "    search_string = f\"/xetra/3002!search?state=H4sIAAAAAAAAADWKsQoCMRAFf0W2TmFjkw-wsgh42IfkRQNrgrsb5Dju3z2EdDPMbJSj4Sr9Tb4NZvf3pU8rMcGU_LYfXEXtBjPIzK9qGiAhPkH-cnZUW-KRca8GnVNvvIZcyJfICkefAVnJEzkS6GB7VHznrF3saLpUY5yiJtp_lYqXCqQAAAA&sort=sTitle+asc&hitsPerPage=50&pageNum={page_number}\"\n",
    "    return base_url + search_string\n",
    "\n",
    "def get_max_page_value(soup):\n",
    "    page_values_in_nav_panel = []\n",
    "    for page_button in soup.find('ul', {'class': 'nav-page'}).find_all('li'):\n",
    "        page_button = page_button.find('button')\n",
    "        if page_button:\n",
    "            if page_button.attrs.keys() == {'value', 'type', 'title', 'name'}:\n",
    "                value = int(page_button['value'])\n",
    "                page_values_in_nav_panel.append(value)\n",
    "    return max(page_values_in_nav_panel)\n",
    "\n",
    "def get_number_of_stocks_listed(soup):\n",
    "    number_as_string = soup.find('div', {'class': 'results'}).get_text().split()[0]\n",
    "    return int(number_as_string.replace('.',''))"
   ]
  },
  {
   "cell_type": "code",
   "execution_count": 3,
   "metadata": {},
   "outputs": [],
   "source": [
    "response = requests.get(get_url_for_page(0))\n",
    "soup = BeautifulSoup(response.text, 'html.parser')\n",
    "max_page_value = get_max_page_value(soup)\n",
    "number_of_stocks_listed = get_number_of_stocks_listed(soup)"
   ]
  },
  {
   "cell_type": "code",
   "execution_count": 17,
   "metadata": {},
   "outputs": [],
   "source": [
    "stock_names = []\n",
    "isin_numbers = []\n",
    "\n",
    "for page_number in range(max_page_value+1):\n",
    "    response = requests.get(get_url_for_page(page_number))\n",
    "    if response.status_code == 200:\n",
    "        soup = BeautifulSoup(response.text, 'html.parser')\n",
    "        for item in soup.find('div', {'class':'searchList list'}).find_all('li'):\n",
    "            if (item.find('h4') is not None) & (item.find('p') is not None):\n",
    "                stock_name = item.find('h4').get_text().strip()\n",
    "                isin_number = item.find('p').get_text().split()[-1]\n",
    "                stock_names.append(stock_name)\n",
    "                isin_numbers.append(isin_number)\n",
    "\n",
    "df_stocks = pd.DataFrame({'ISIN': isin_numbers, 'STOCK': stock_names})"
   ]
  },
  {
   "cell_type": "code",
   "execution_count": 18,
   "metadata": {},
   "outputs": [
    {
     "name": "stdout",
     "output_type": "stream",
     "text": [
      "Number of stocks listed: 1053\n",
      "Stocks extracted: 100.0 %\n"
     ]
    }
   ],
   "source": [
    "print(f\"Number of stocks listed: {number_of_stocks_listed}\")\n",
    "print(f\"Stocks extracted: {np.round((df_stocks.shape[0] / number_of_stocks_listed) * 100)} %\")\n"
   ]
  },
  {
   "cell_type": "code",
   "execution_count": 20,
   "metadata": {},
   "outputs": [],
   "source": [
    "from datetime import datetime\n",
    "import os"
   ]
  },
  {
   "cell_type": "code",
   "execution_count": 23,
   "metadata": {},
   "outputs": [],
   "source": [
    "stocks_folder = \"data/stocks/raw\"\n",
    "os.makedirs(stocks_folder, exist_ok=True)\n",
    "\n",
    "datetime_string = datetime.now().strftime(\"%Y%m%dT%H%M%S\")\n",
    "file_name_stocks = datetime_string + \"_xetra.csv\"\n",
    "file_path_stocks = os.path.join(stocks_folder, file_name_stocks)\n",
    "df_stocks.to_csv(file_path_stocks, index=False)\n"
   ]
  },
  {
   "cell_type": "code",
   "execution_count": 22,
   "metadata": {},
   "outputs": [
    {
     "data": {
      "text/html": [
       "<div>\n",
       "<style scoped>\n",
       "    .dataframe tbody tr th:only-of-type {\n",
       "        vertical-align: middle;\n",
       "    }\n",
       "\n",
       "    .dataframe tbody tr th {\n",
       "        vertical-align: top;\n",
       "    }\n",
       "\n",
       "    .dataframe thead th {\n",
       "        text-align: right;\n",
       "    }\n",
       "</style>\n",
       "<table border=\"1\" class=\"dataframe\">\n",
       "  <thead>\n",
       "    <tr style=\"text-align: right;\">\n",
       "      <th></th>\n",
       "      <th>ISIN</th>\n",
       "      <th>STOCK</th>\n",
       "    </tr>\n",
       "  </thead>\n",
       "  <tbody>\n",
       "    <tr>\n",
       "      <th>516</th>\n",
       "      <td>DE0006223605</td>\n",
       "      <td>INTERTAINMENT AG INH O.N.\\n\\t\\t\\t(EUR)</td>\n",
       "    </tr>\n",
       "    <tr>\n",
       "      <th>451</th>\n",
       "      <td>DE000A0S8488</td>\n",
       "      <td>HAMBURG.HAFEN LOG.A-SP NA\\n\\t\\t\\t(EUR)</td>\n",
       "    </tr>\n",
       "    <tr>\n",
       "      <th>252</th>\n",
       "      <td>DE000A2LQUA5</td>\n",
       "      <td>CREDITSHELF AG  IA O.N.\\n\\t\\t\\t(EUR)</td>\n",
       "    </tr>\n",
       "  </tbody>\n",
       "</table>\n",
       "</div>"
      ],
      "text/plain": [
       "             ISIN                                   STOCK\n",
       "516  DE0006223605  INTERTAINMENT AG INH O.N.\\n\\t\\t\\t(EUR)\n",
       "451  DE000A0S8488  HAMBURG.HAFEN LOG.A-SP NA\\n\\t\\t\\t(EUR)\n",
       "252  DE000A2LQUA5    CREDITSHELF AG  IA O.N.\\n\\t\\t\\t(EUR)"
      ]
     },
     "execution_count": 22,
     "metadata": {},
     "output_type": "execute_result"
    }
   ],
   "source": [
    "df_stocks.sample(3)"
   ]
  },
  {
   "cell_type": "code",
   "execution_count": null,
   "metadata": {},
   "outputs": [],
   "source": []
  }
 ],
 "metadata": {
  "interpreter": {
   "hash": "187b1988031df14b784b1ca83dcf6c508f75d9af158ade7af96a8719ac4cf2b2"
  },
  "kernelspec": {
   "display_name": "Python 3.8.5 ('base')",
   "language": "python",
   "name": "python3"
  },
  "language_info": {
   "codemirror_mode": {
    "name": "ipython",
    "version": 3
   },
   "file_extension": ".py",
   "mimetype": "text/x-python",
   "name": "python",
   "nbconvert_exporter": "python",
   "pygments_lexer": "ipython3",
   "version": "3.8.5"
  },
  "orig_nbformat": 4
 },
 "nbformat": 4,
 "nbformat_minor": 2
}
