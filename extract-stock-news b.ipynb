{
 "cells": [
  {
   "cell_type": "code",
   "execution_count": 2,
   "metadata": {},
   "outputs": [],
   "source": [
    "import pandas as pd\n",
    "import numpy as np\n",
    "import requests\n",
    "from bs4 import BeautifulSoup\n",
    "import os\n",
    "from glob import glob"
   ]
  },
  {
   "cell_type": "code",
   "execution_count": 6,
   "metadata": {},
   "outputs": [],
   "source": [
    "def get_soup(url):\n",
    "    response = requests.get(url)\n",
    "    return BeautifulSoup(response.text, 'html.parser')\n",
    "\n",
    "# value.text.encode('latin').decode()\n"
   ]
  },
  {
   "cell_type": "code",
   "execution_count": 3,
   "metadata": {},
   "outputs": [],
   "source": [
    "base_url = \"https://www.finanzen.net\"\n"
   ]
  },
  {
   "cell_type": "code",
   "execution_count": 5,
   "metadata": {},
   "outputs": [
    {
     "data": {
      "text/html": [
       "<div>\n",
       "<style scoped>\n",
       "    .dataframe tbody tr th:only-of-type {\n",
       "        vertical-align: middle;\n",
       "    }\n",
       "\n",
       "    .dataframe tbody tr th {\n",
       "        vertical-align: top;\n",
       "    }\n",
       "\n",
       "    .dataframe thead th {\n",
       "        text-align: right;\n",
       "    }\n",
       "</style>\n",
       "<table border=\"1\" class=\"dataframe\">\n",
       "  <thead>\n",
       "    <tr style=\"text-align: right;\">\n",
       "      <th></th>\n",
       "      <th>ISIN</th>\n",
       "      <th>date</th>\n",
       "      <th>title</th>\n",
       "      <th>source</th>\n",
       "      <th>kicker</th>\n",
       "      <th>link_article</th>\n",
       "    </tr>\n",
       "  </thead>\n",
       "  <tbody>\n",
       "    <tr>\n",
       "      <th>0</th>\n",
       "      <td>FR0000031122</td>\n",
       "      <td>23.08.22</td>\n",
       "      <td>Lufthansa-Aktie: Weichenstellung zu Gebot von ...</td>\n",
       "      <td>Reuters</td>\n",
       "      <td>Privatisierung von ITA</td>\n",
       "      <td>https://www.finanzen.net/nachricht/aktien/priv...</td>\n",
       "    </tr>\n",
       "    <tr>\n",
       "      <th>1</th>\n",
       "      <td>FR0000031122</td>\n",
       "      <td>04.08.22</td>\n",
       "      <td>Lufthansa-Aktie: Italienische Gewerkschaften s...</td>\n",
       "      <td>dpa-afx</td>\n",
       "      <td>Übernahmepoker</td>\n",
       "      <td>https://www.finanzen.net/nachricht/aktien/uebe...</td>\n",
       "    </tr>\n",
       "    <tr>\n",
       "      <th>2</th>\n",
       "      <td>FR0000031122</td>\n",
       "      <td>31.07.22</td>\n",
       "      <td>Air France-KLM-Aktie: Das sind die Expertenmei...</td>\n",
       "      <td>finanzen.net</td>\n",
       "      <td>Experten-Meinungen</td>\n",
       "      <td>https://www.finanzen.net/nachricht/aktien/air-...</td>\n",
       "    </tr>\n",
       "    <tr>\n",
       "      <th>3</th>\n",
       "      <td>FR0000031122</td>\n",
       "      <td>29.07.22</td>\n",
       "      <td>Air France-Aktie höher: Air France-KLM landet ...</td>\n",
       "      <td>dpa-afx</td>\n",
       "      <td>Nettogewinn</td>\n",
       "      <td>https://www.finanzen.net/nachricht/aktien/nett...</td>\n",
       "    </tr>\n",
       "    <tr>\n",
       "      <th>4</th>\n",
       "      <td>FR0000031122</td>\n",
       "      <td>12.07.22</td>\n",
       "      <td>Lufthansa-Aktie steigt: ITA-Gebot von Lufthans...</td>\n",
       "      <td>dpa-afx</td>\n",
       "      <td>Bessere Aussichten</td>\n",
       "      <td>https://www.finanzen.net/nachricht/aktien/bess...</td>\n",
       "    </tr>\n",
       "  </tbody>\n",
       "</table>\n",
       "</div>"
      ],
      "text/plain": [
       "           ISIN      date                                              title  \\\n",
       "0  FR0000031122  23.08.22  Lufthansa-Aktie: Weichenstellung zu Gebot von ...   \n",
       "1  FR0000031122  04.08.22  Lufthansa-Aktie: Italienische Gewerkschaften s...   \n",
       "2  FR0000031122  31.07.22  Air France-KLM-Aktie: Das sind die Expertenmei...   \n",
       "3  FR0000031122  29.07.22  Air France-Aktie höher: Air France-KLM landet ...   \n",
       "4  FR0000031122  12.07.22  Lufthansa-Aktie steigt: ITA-Gebot von Lufthans...   \n",
       "\n",
       "         source                  kicker  \\\n",
       "0       Reuters  Privatisierung von ITA   \n",
       "1       dpa-afx          Übernahmepoker   \n",
       "2  finanzen.net      Experten-Meinungen   \n",
       "3       dpa-afx             Nettogewinn   \n",
       "4       dpa-afx      Bessere Aussichten   \n",
       "\n",
       "                                        link_article  \n",
       "0  https://www.finanzen.net/nachricht/aktien/priv...  \n",
       "1  https://www.finanzen.net/nachricht/aktien/uebe...  \n",
       "2  https://www.finanzen.net/nachricht/aktien/air-...  \n",
       "3  https://www.finanzen.net/nachricht/aktien/nett...  \n",
       "4  https://www.finanzen.net/nachricht/aktien/bess...  "
      ]
     },
     "execution_count": 5,
     "metadata": {},
     "output_type": "execute_result"
    }
   ],
   "source": [
    "df_news_links = pd.read_csv(\"data/stocks/finanzen-dot-net-news.csv\")\n",
    "df_news_links.head()"
   ]
  },
  {
   "cell_type": "code",
   "execution_count": 7,
   "metadata": {},
   "outputs": [],
   "source": [
    "url = \"https://www.finanzen.net/nachricht/aktien/privatisierung-von-ita-lufthansa-aktie-weichenstellung-zu-gebot-von-lufthansa-und-msc-fuer-ita-bis-monatsende-moeglich-11650055\"\n"
   ]
  },
  {
   "cell_type": "code",
   "execution_count": 67,
   "metadata": {},
   "outputs": [],
   "source": [
    "\n",
    "soup = get_soup(url)\n",
    "\n",
    "# headline\n",
    "headline = soup.find('div', {'class': 'row news-snapshot'}).find('h1').text\n"
   ]
  },
  {
   "cell_type": "code",
   "execution_count": 68,
   "metadata": {},
   "outputs": [
    {
     "data": {
      "text/plain": [
       "<div class=\"teaser teaser-snapshot\"><div class=\"row\"><div class=\"col-sm-3 col-xs-6\"><div class=\"button bgWhite borderGoogleFollow\" onclick=\"oeffneNeuesFenster('https://news.google.com/publications/CAAqBwgKMPfD3gEwr6cN?hl=de&amp;gl=DE&amp;ceid=DE%3Ade')\"><div class=\"googleNewsImg pull-left\"></div><div class=\"separator google pull-left\"></div><div class=\"googleFollowImg pull-left mright-5\"></div><div class=\"buttonBorderGoogleFollowTitle pull-left\">Folgen</div></div></div><div class=\"col-sm-3 col-xs-6 no-padding-sm-left socialMediaBar\"><span class=\"like\" onclick=\"oeffneNeuesFenster('https://www.facebook.com/dialog/share?app_id=858200894215708&amp;display=popup&amp;href=https%3A%2F%2Fwww%2Efinanzen%2Enet%2Fnachricht%2Faktien%2Fprivatisierung%2Dvon%2Dita%2Dlufthansa%2Daktie%2Dweichenstellung%2Dzu%2Dgebot%2Dvon%2Dlufthansa%2Dund%2Dmsc%2Dfuer%2Dita%2Dbis%2Dmonatsende%2Dmoeglich%2D11650055', 'Article Share', 600, 300);\"><i></i>FACEBOOK</span></div><div class=\"spacer-10 visible-xs\"></div><div class=\"col-sm-3 col-xs-6 no-padding-sm-left socialMediaBar\"><a href=\"/nachricht/aktien/privatisierung-von-ita-lufthansa-aktie-weichenstellung-zu-gebot-von-lufthansa-und-msc-fuer-ita-bis-monatsende-moeglich-11650055@print\" rel=\"nofollow noopener\" target=\"_blank\"><span class=\"print\"><i></i>DRUCKEN</span></a></div></div><div class=\"spacer-10\"></div><div>Im Ringen um die Privatisierung der italienischen Staatsairline ITA Airways will die nur noch geschÃ¤ftsfÃ¼hrende Regierung Insidern zufolge vor der Neuwahl in Italien zu einem Ergebnis kommen.</div></div>"
      ]
     },
     "execution_count": 68,
     "metadata": {},
     "output_type": "execute_result"
    }
   ],
   "source": [
    "soup.find('div', {'class': 'teaser teaser-snapshot'})\n"
   ]
  },
  {
   "cell_type": "code",
   "execution_count": 69,
   "metadata": {},
   "outputs": [
    {
     "data": {
      "text/plain": [
       "'Aktien in diesem ArtikelAir France-KLM1,41 EUR-2,52%ChartsNewsAnalysenDelta Air Lines Inc.32,70 EUR-3,34%ChartsNewsAnalysenLufthansa AG5,82 EUR-1,54%ChartsNewsAnalysenAktien in diesem Artikel anzeigenAir France-KLM1,41 EUR -2,52%ChartsNewsAnalysenHier fÃ¼r 0 â\\x82¬ handelnAlle anzeigenDie Lufthansa will zusammen mit der Schweizer Reederei MSC einen Mehrheitsanteil an ITA von 80 Prozent Ã¼bernehmen. Der bevorzugte Bieter der zwei um ITA werbenden Gruppen - neben Lufthansa/MSC noch der US-Finanzinvestor Certaris mit den Airlines Delta und Air France-KLM im Hintergrund - solle bis Ende dieses Monats ausgewÃ¤hlt werden, sagten drei mit den VorgÃ¤ngen Vertraute der Nachrichtenagentur Reuters am Montag. In dem seit Anfang des Jahres laufenden Prozess hatte die italienische Regierung die Interessenten zuletzt zu verbesserten Angeboten aufgefordert, die bis Montag um 24.00 Uhr vorliegen sollen.Einem Lufthansa-Sprecher zufolge wird es einen neuen Vorschlag geben. Zum Inhalt wollte er sich nicht Ã¤uÃ\\x9fern. Einem der Insider zufolge bieten Lufthansa und MSC an, einen 80-Prozent-Anteil fÃ¼r 850 bis 900 Millionen Euro zu Ã¼bernehmen. MSC wÃ¼rde von dem Paket das Gros von 60 Prozentpunkten kaufen, der Lufthansa-Konzern den Rest. Eine Rolle spielt, wie viel Einfluss der Staat auf die Airline behÃ¤lt. Die Offerte von Certaris fÃ¼r nur 60 Prozent Beteiligung zum Preis von 600 Millionen Euro wÃ¼rde der Regierung ein Vetorecht etwa zu strategischen Fragen sichern, sagte ein Vierter mit Kenntnis der PlÃ¤ne. Die bald abtretende Regierung unter MinisterprÃ¤sident Mario Draghi wolle dann eine Einigung mit dem KÃ¤ufer bis 10. September erreichen, erklÃ¤rten die Insider weiter. Am 25. September sind in Italien Neuwahlen. Daher ist offen, ob die kÃ¼nftige Regierung die Privatisierung der Alitalia-Nachfolgegesellschaft mittragen wird.  Mailand (Reuters)Ausgewählte Hebelprodukte auf Air France-KLMMit Knock-outs können spekulative Anleger überproportional an Kursbewegungen partizipieren. Wählen Sie einfach den gewünschten Hebel und wir zeigen Ihnen passende Open-End Produkte auf Air France-KLMLongShortHebel wÃ¤hlen:5x10xDer Hebel muss zwischen 2 und 20 liegenNameHebelKOEmittentKeine DatenWeitere News zum Thema Air France-KLMLufthansa-Aktie dennoch in Rot: Eurowings sieht steigende Nachfrage nach Geschäftsreisen  Lufthansa-Aktie deutlich tiefer: Sondierungen zwischen Piloten und Lufthansa ergebnislosPiloten-Gewerkschaft fordert Urabstimmung bei Lufthansa-Tochter EurowingsBildquellen: Robert Sarosiek / Shutterstock.com, Jorg Hackemann / Shutterstock.com'"
      ]
     },
     "execution_count": 69,
     "metadata": {},
     "output_type": "execute_result"
    }
   ],
   "source": [
    "soup.find('div', {'id': 'news-container'}).text"
   ]
  },
  {
   "cell_type": "code",
   "execution_count": 70,
   "metadata": {},
   "outputs": [
    {
     "data": {
      "text/plain": [
       "[<p>Einem Lufthansa-Sprecher zufolge wird es einen neuen Vorschlag geben. Zum Inhalt wollte er sich nicht Ã¤uÃern. Einem der Insider zufolge bieten Lufthansa und MSC an, einen 80-Prozent-Anteil fÃ¼r 850 bis 900 Millionen Euro zu Ã¼bernehmen. MSC wÃ¼rde von dem Paket das Gros von 60 Prozentpunkten kaufen, der Lufthansa-Konzern den Rest. Eine Rolle spielt, wie viel Einfluss der Staat auf die Airline behÃ¤lt. Die Offerte von Certaris fÃ¼r nur 60 Prozent Beteiligung zum Preis von 600 Millionen Euro wÃ¼rde der Regierung ein Vetorecht etwa zu strategischen Fragen sichern, sagte ein Vierter mit Kenntnis der PlÃ¤ne. <div id=\"inpage\"></div></p>,\n",
       " <p>Die bald abtretende Regierung unter MinisterprÃ¤sident <a href=\"/themen/mario-draghi\">Mario Draghi</a> wolle dann eine Einigung mit dem KÃ¤ufer bis 10. September erreichen, erklÃ¤rten die Insider weiter. Am 25. September sind in Italien Neuwahlen. Daher ist offen, ob die kÃ¼nftige Regierung die Privatisierung der Alitalia-Nachfolgegesellschaft mittragen wird. </p>,\n",
       " <p></p>,\n",
       " <p> Mailand (Reuters)<div class=\"spacer-20\"></div><div class=\"lvgSearchOuter\"><span class=\"font-bold\">Ausgewählte Hebelprodukte auf Air France-KLM</span><div class=\"spacer-10\"></div>Mit Knock-outs können spekulative Anleger überproportional an Kursbewegungen partizipieren. Wählen Sie einfach den gewünschten Hebel und wir zeigen Ihnen passende Open-End Produkte auf Air France-KLM<div class=\"spacer-10\"></div><div class=\"row\"><div class=\"col-xs-12 col-sm-6\"><div class=\"button-toggle\" id=\"lvgProductSwitch\"><div class=\"button font-bold highlighted\">Long</div><div class=\"button font-bold\">Short</div></div></div><div class=\"spacer-10 visible-xs\"></div><div class=\"col-xs-12 col-sm-6\"><div class=\"d-flex justify-flex-end align-items-center\"><div class=\"font-bold mright-sm-10\">Hebel wÃ¤hlen:</div><div class=\"spacer-10 visible-xs\"></div><div class=\"lvgHandleContainer flex font-bold\"><div class=\"lvgHandle highlighted\" id=\"lvgHandle5\">5x</div><div class=\"lvgHandle\" id=\"lvgHandle10\">10x</div><div class=\"lvgHandle lvgHandleCustom lvgCustomHandleImage\" id=\"lvgHandleCustom\"></div><div class=\"hidden flex\" id=\"lvgCustomHandles\"><input class=\"input-no-number-arrows mright-10\" id=\"lvgInputField\" max=\"100\" min=\"1\" type=\"number\"/><div class=\"lvgHandle lvgHandleAccept\" id=\"lvgHandleAccept\"></div><div class=\"lvgHandle lvgHandleCancel\" id=\"lvgHandleCancel\"></div></div></div></div></div><div class=\"col-xs-12\"><div class=\"spacer-10\"></div><div class=\"red text-sm-right hidden\" id=\"lvgCustomHandleInfo\">Der Hebel muss zwischen 2 und 20 liegen</div></div></div><div class=\"spacer-30\"></div><div class=\"lvgProductListHeader flex font-bold m-font-size-normal\"><div class=\"lvgProductCol\">Name</div><div class=\"lvgProductCol\">Hebel</div><div class=\"lvgProductCol\">KO</div><div class=\"lvgProductCol\">Emittent</div></div><div class=\"spacer-15\"></div><div class=\"lvgProductList hidden m-font-size-normal\" id=\"lvgProductList--short\"></div><div class=\"lvgProductList m-font-size-normal\" id=\"lvgProductList--long\"></div><div class=\"hidden\" id=\"lvgProductListNoData\">Keine Daten</div></div><script>var strlvgProductISIN = 'FR0000031122';</script><script src=\"https://scripts.finanzen.net/js/leverage-search.min.js?dt=112\"></script><div class=\"spacer-20\"></div><div class=\"native-content-ad-container\" id=\"native-content-ad\"></div><script>let ressortNumber = 1;let ncaRequestUrl = 'https://c.finanzen.net';let shareName = 'Air France-KLM';</script><script async=\"\" src=\"https://scripts.finanzen.net/js/native-content-ads.js?dt=112\"></script><!--CenterColumn_1--><div class=\"\"><h2 class=\"box-headline\">Weitere News zum Thema Air France-KLM</h2><div class=\"spacer-10\"></div><ul class=\"teaser-list no-margin-bottom\"><li><a href=\"https://www.finanzen.net/nachricht/aktien/angebot-ausgeweitet-lufthansa-aktie-dennoch-in-rot-eurowings-sieht-steigende-nachfrage-nach-geschaeftsreisen-11648709\">Lufthansa-Aktie dennoch in Rot: Eurowings sieht steigende Nachfrage nach Geschäftsreisen  </a></li><li><a href=\"https://www.finanzen.net/nachricht/aktien/geruechte-um-streik-lufthansa-aktie-deutlich-tiefer-sondierungen-zwischen-piloten-und-lufthansa-ergebnislos-11646882\">Lufthansa-Aktie deutlich tiefer: Sondierungen zwischen Piloten und Lufthansa ergebnislos</a></li><li><a href=\"https://www.finanzen.net/nachricht/aktien/34-kein-streikbeschluss-34-lufthansa-aktie-gibt-nach-piloten-gewerkschaft-fordert-urabstimmung-bei-lufthansa-tochter-eurowings-11635337\">Piloten-Gewerkschaft fordert Urabstimmung bei Lufthansa-Tochter Eurowings</a></li></ul></div><div class=\"spacer-20\"></div><div class=\"spacer-10\"></div><div class=\"medium-font light-grey\">Bildquellen: Robert Sarosiek / Shutterstock.com, Jorg Hackemann / Shutterstock.com</div><div class=\"spacer-20\"></div></p>]"
      ]
     },
     "execution_count": 70,
     "metadata": {},
     "output_type": "execute_result"
    }
   ],
   "source": [
    "soup.find('div', {'id': 'news-container'}).find_all('p')"
   ]
  },
  {
   "cell_type": "code",
   "execution_count": 71,
   "metadata": {},
   "outputs": [],
   "source": [
    "news_container = soup.find('div', {'id': 'news-container'})\n"
   ]
  },
  {
   "cell_type": "code",
   "execution_count": 72,
   "metadata": {},
   "outputs": [
    {
     "ename": "AttributeError",
     "evalue": "'NoneType' object has no attribute 'decompose'",
     "output_type": "error",
     "traceback": [
      "\u001b[0;31m---------------------------------------------------------------------------\u001b[0m",
      "\u001b[0;31mAttributeError\u001b[0m                            Traceback (most recent call last)",
      "\u001b[1;32m/home/malte/Dokumente/projects/financial-scraping/extract-stock-news b.ipynb Cell 11'\u001b[0m in \u001b[0;36m<cell line: 2>\u001b[0;34m()\u001b[0m\n\u001b[1;32m      <a href='vscode-notebook-cell:/home/malte/Dokumente/projects/financial-scraping/extract-stock-news%20b.ipynb#ch0000016?line=0'>1</a>\u001b[0m news_container\u001b[39m.\u001b[39mfind(\u001b[39m'\u001b[39m\u001b[39mdiv\u001b[39m\u001b[39m'\u001b[39m, {\u001b[39m'\u001b[39m\u001b[39mclass\u001b[39m\u001b[39m'\u001b[39m: \u001b[39m'\u001b[39m\u001b[39mpull-right\u001b[39m\u001b[39m'\u001b[39m})\u001b[39m.\u001b[39mdecompose()\n\u001b[0;32m----> <a href='vscode-notebook-cell:/home/malte/Dokumente/projects/financial-scraping/extract-stock-news%20b.ipynb#ch0000016?line=1'>2</a>\u001b[0m news_container\u001b[39m.\u001b[39;49mfind(\u001b[39m'\u001b[39;49m\u001b[39mdiv\u001b[39;49m\u001b[39m'\u001b[39;49m, {\u001b[39m'\u001b[39;49m\u001b[39mclass\u001b[39;49m\u001b[39m'\u001b[39;49m: \u001b[39m'\u001b[39;49m\u001b[39mhidden-xs\u001b[39;49m\u001b[39m'\u001b[39;49m})\u001b[39m.\u001b[39;49mdecompose()\n",
      "\u001b[0;31mAttributeError\u001b[0m: 'NoneType' object has no attribute 'decompose'"
     ]
    }
   ],
   "source": [
    "news_container.find('div', {'class': 'pull-right'}).decompose()\n"
   ]
  },
  {
   "cell_type": "code",
   "execution_count": 81,
   "metadata": {},
   "outputs": [],
   "source": [
    "news_container.find('div', {'class': 'visible-xs-block'}).decompose()\n"
   ]
  },
  {
   "cell_type": "code",
   "execution_count": 78,
   "metadata": {},
   "outputs": [],
   "source": [
    "news_container.find('div', {'class': 'dropdown-container-chartflow relative'}).decompose()\n"
   ]
  },
  {
   "cell_type": "code",
   "execution_count": 83,
   "metadata": {},
   "outputs": [],
   "source": [
    "news_container.find(\n",
    "    'div', {'class': 'dropdown-container-triangle seperate-triangle'}).decompose()\n",
    "\n"
   ]
  },
  {
   "cell_type": "code",
   "execution_count": 84,
   "metadata": {},
   "outputs": [
    {
     "name": "stdout",
     "output_type": "stream",
     "text": [
      "<div class=\"teaser teaser-xs color-news\" id=\"news-container\">\n",
      " Die\n",
      " <a href=\"/aktien/lufthansa-aktie\" rel=\"noopener\" target=\"_blank\">\n",
      "  Lufthansa\n",
      " </a>\n",
      " will zusammen mit der Schweizer Reederei MSC einen Mehrheitsanteil an ITA von 80 Prozent Ã¼bernehmen. Der bevorzugte Bieter der zwei um ITA werbenden Gruppen - neben Lufthansa/MSC noch der US-Finanzinvestor Certaris mit den Airlines\n",
      " <a href=\"/aktien/delta_air_lines-aktie\" rel=\"noopener\" target=\"_blank\">\n",
      "  Delta\n",
      " </a>\n",
      " und\n",
      " <a href=\"/aktien/air_france-klm-aktie\" rel=\"noopener\" target=\"_blank\">\n",
      "  Air France-KLM\n",
      " </a>\n",
      " im Hintergrund - solle bis Ende dieses Monats ausgewÃ¤hlt werden, sagten drei mit den VorgÃ¤ngen Vertraute der Nachrichtenagentur Reuters am Montag. In dem seit Anfang des Jahres laufenden Prozess hatte die italienische Regierung die Interessenten zuletzt zu verbesserten Angeboten aufgefordert, die bis Montag um 24.00 Uhr vorliegen sollen.\n",
      " <div class=\"spacer-10\">\n",
      " </div>\n",
      " <div class=\"clearfix\">\n",
      "  <div class=\"fin-ob-container fin-ob-sf_10\">\n",
      "   <div class=\"OUTBRAIN\" data-src=\"https://www.finanzen.net/nachricht/aktien/privatisierung-von-ita-lufthansa-aktie-weichenstellung-zu-gebot-von-lufthansa-und-msc-fuer-ita-bis-monatsende-moeglich-11650055\" data-widget-id=\"SF_10\">\n",
      "   </div>\n",
      "  </div>\n",
      "  <script async=\"\" src=\"https://widgets.outbrain.com/outbrain.js?d=finanzen.net\">\n",
      "  </script>\n",
      " </div>\n",
      " <div class=\"spacer-10\">\n",
      " </div>\n",
      " <p>\n",
      "  Einem Lufthansa-Sprecher zufolge wird es einen neuen Vorschlag geben. Zum Inhalt wollte er sich nicht Ã¤uÃern. Einem der Insider zufolge bieten Lufthansa und MSC an, einen 80-Prozent-Anteil fÃ¼r 850 bis 900 Millionen Euro zu Ã¼bernehmen. MSC wÃ¼rde von dem Paket das Gros von 60 Prozentpunkten kaufen, der Lufthansa-Konzern den Rest. Eine Rolle spielt, wie viel Einfluss der Staat auf die Airline behÃ¤lt. Die Offerte von Certaris fÃ¼r nur 60 Prozent Beteiligung zum Preis von 600 Millionen Euro wÃ¼rde der Regierung ein Vetorecht etwa zu strategischen Fragen sichern, sagte ein Vierter mit Kenntnis der PlÃ¤ne.\n",
      "  <div id=\"inpage\">\n",
      "  </div>\n",
      " </p>\n",
      " <p>\n",
      "  Die bald abtretende Regierung unter MinisterprÃ¤sident\n",
      "  <a href=\"/themen/mario-draghi\">\n",
      "   Mario Draghi\n",
      "  </a>\n",
      "  wolle dann eine Einigung mit dem KÃ¤ufer bis 10. September erreichen, erklÃ¤rten die Insider weiter. Am 25. September sind in Italien Neuwahlen. Daher ist offen, ob die kÃ¼nftige Regierung die Privatisierung der Alitalia-Nachfolgegesellschaft mittragen wird.\n",
      " </p>\n",
      " <p>\n",
      " </p>\n",
      " <p>\n",
      "  Mailand (Reuters)\n",
      "  <div class=\"spacer-20\">\n",
      "  </div>\n",
      "  <div class=\"lvgSearchOuter\">\n",
      "   <span class=\"font-bold\">\n",
      "    Ausgewählte Hebelprodukte auf Air France-KLM\n",
      "   </span>\n",
      "   <div class=\"spacer-10\">\n",
      "   </div>\n",
      "   Mit Knock-outs können spekulative Anleger überproportional an Kursbewegungen partizipieren. Wählen Sie einfach den gewünschten Hebel und wir zeigen Ihnen passende Open-End Produkte auf Air France-KLM\n",
      "   <div class=\"spacer-10\">\n",
      "   </div>\n",
      "   <div class=\"row\">\n",
      "    <div class=\"col-xs-12 col-sm-6\">\n",
      "     <div class=\"button-toggle\" id=\"lvgProductSwitch\">\n",
      "      <div class=\"button font-bold highlighted\">\n",
      "       Long\n",
      "      </div>\n",
      "      <div class=\"button font-bold\">\n",
      "       Short\n",
      "      </div>\n",
      "     </div>\n",
      "    </div>\n",
      "    <div class=\"spacer-10 visible-xs\">\n",
      "    </div>\n",
      "    <div class=\"col-xs-12 col-sm-6\">\n",
      "     <div class=\"d-flex justify-flex-end align-items-center\">\n",
      "      <div class=\"font-bold mright-sm-10\">\n",
      "       Hebel wÃ¤hlen:\n",
      "      </div>\n",
      "      <div class=\"spacer-10 visible-xs\">\n",
      "      </div>\n",
      "      <div class=\"lvgHandleContainer flex font-bold\">\n",
      "       <div class=\"lvgHandle highlighted\" id=\"lvgHandle5\">\n",
      "        5x\n",
      "       </div>\n",
      "       <div class=\"lvgHandle\" id=\"lvgHandle10\">\n",
      "        10x\n",
      "       </div>\n",
      "       <div class=\"lvgHandle lvgHandleCustom lvgCustomHandleImage\" id=\"lvgHandleCustom\">\n",
      "       </div>\n",
      "       <div class=\"hidden flex\" id=\"lvgCustomHandles\">\n",
      "        <input class=\"input-no-number-arrows mright-10\" id=\"lvgInputField\" max=\"100\" min=\"1\" type=\"number\"/>\n",
      "        <div class=\"lvgHandle lvgHandleAccept\" id=\"lvgHandleAccept\">\n",
      "        </div>\n",
      "        <div class=\"lvgHandle lvgHandleCancel\" id=\"lvgHandleCancel\">\n",
      "        </div>\n",
      "       </div>\n",
      "      </div>\n",
      "     </div>\n",
      "    </div>\n",
      "    <div class=\"col-xs-12\">\n",
      "     <div class=\"spacer-10\">\n",
      "     </div>\n",
      "     <div class=\"red text-sm-right hidden\" id=\"lvgCustomHandleInfo\">\n",
      "      Der Hebel muss zwischen 2 und 20 liegen\n",
      "     </div>\n",
      "    </div>\n",
      "   </div>\n",
      "   <div class=\"spacer-30\">\n",
      "   </div>\n",
      "   <div class=\"lvgProductListHeader flex font-bold m-font-size-normal\">\n",
      "    <div class=\"lvgProductCol\">\n",
      "     Name\n",
      "    </div>\n",
      "    <div class=\"lvgProductCol\">\n",
      "     Hebel\n",
      "    </div>\n",
      "    <div class=\"lvgProductCol\">\n",
      "     KO\n",
      "    </div>\n",
      "    <div class=\"lvgProductCol\">\n",
      "     Emittent\n",
      "    </div>\n",
      "   </div>\n",
      "   <div class=\"spacer-15\">\n",
      "   </div>\n",
      "   <div class=\"lvgProductList hidden m-font-size-normal\" id=\"lvgProductList--short\">\n",
      "   </div>\n",
      "   <div class=\"lvgProductList m-font-size-normal\" id=\"lvgProductList--long\">\n",
      "   </div>\n",
      "   <div class=\"hidden\" id=\"lvgProductListNoData\">\n",
      "    Keine Daten\n",
      "   </div>\n",
      "  </div>\n",
      "  <script>\n",
      "   var strlvgProductISIN = 'FR0000031122';\n",
      "  </script>\n",
      "  <script src=\"https://scripts.finanzen.net/js/leverage-search.min.js?dt=112\">\n",
      "  </script>\n",
      "  <div class=\"spacer-20\">\n",
      "  </div>\n",
      "  <div class=\"native-content-ad-container\" id=\"native-content-ad\">\n",
      "  </div>\n",
      "  <script>\n",
      "   let ressortNumber = 1;let ncaRequestUrl = 'https://c.finanzen.net';let shareName = 'Air France-KLM';\n",
      "  </script>\n",
      "  <script async=\"\" src=\"https://scripts.finanzen.net/js/native-content-ads.js?dt=112\">\n",
      "  </script>\n",
      "  <!--CenterColumn_1-->\n",
      "  <div class=\"\">\n",
      "   <h2 class=\"box-headline\">\n",
      "    Weitere News zum Thema Air France-KLM\n",
      "   </h2>\n",
      "   <div class=\"spacer-10\">\n",
      "   </div>\n",
      "   <ul class=\"teaser-list no-margin-bottom\">\n",
      "    <li>\n",
      "     <a href=\"https://www.finanzen.net/nachricht/aktien/angebot-ausgeweitet-lufthansa-aktie-dennoch-in-rot-eurowings-sieht-steigende-nachfrage-nach-geschaeftsreisen-11648709\">\n",
      "      Lufthansa-Aktie dennoch in Rot: Eurowings sieht steigende Nachfrage nach Geschäftsreisen\n",
      "     </a>\n",
      "    </li>\n",
      "    <li>\n",
      "     <a href=\"https://www.finanzen.net/nachricht/aktien/geruechte-um-streik-lufthansa-aktie-deutlich-tiefer-sondierungen-zwischen-piloten-und-lufthansa-ergebnislos-11646882\">\n",
      "      Lufthansa-Aktie deutlich tiefer: Sondierungen zwischen Piloten und Lufthansa ergebnislos\n",
      "     </a>\n",
      "    </li>\n",
      "    <li>\n",
      "     <a href=\"https://www.finanzen.net/nachricht/aktien/34-kein-streikbeschluss-34-lufthansa-aktie-gibt-nach-piloten-gewerkschaft-fordert-urabstimmung-bei-lufthansa-tochter-eurowings-11635337\">\n",
      "      Piloten-Gewerkschaft fordert Urabstimmung bei Lufthansa-Tochter Eurowings\n",
      "     </a>\n",
      "    </li>\n",
      "   </ul>\n",
      "  </div>\n",
      "  <div class=\"spacer-20\">\n",
      "  </div>\n",
      "  <div class=\"spacer-10\">\n",
      "  </div>\n",
      "  <div class=\"medium-font light-grey\">\n",
      "   Bildquellen: Robert Sarosiek / Shutterstock.com, Jorg Hackemann / Shutterstock.com\n",
      "  </div>\n",
      "  <div class=\"spacer-20\">\n",
      "  </div>\n",
      " </p>\n",
      "</div>\n",
      "\n"
     ]
    }
   ],
   "source": [
    "print(news_container.prettify())"
   ]
  },
  {
   "cell_type": "code",
   "execution_count": 90,
   "metadata": {},
   "outputs": [],
   "source": [
    "markup = news_container.prettify().split('<p>',1)[0]\n"
   ]
  },
  {
   "cell_type": "code",
   "execution_count": 91,
   "metadata": {},
   "outputs": [],
   "source": [
    "soup_2 = BeautifulSoup(markup)\n"
   ]
  },
  {
   "cell_type": "code",
   "execution_count": 99,
   "metadata": {},
   "outputs": [
    {
     "data": {
      "text/plain": [
       "'Die Lufthansa will zusammen mit der Schweizer Reederei MSC einen Mehrheitsanteil an ITA von 80 Prozent übernehmen. Der bevorzugte Bieter der zwei um ITA werbenden Gruppen - neben Lufthansa/MSC noch der US-Finanzinvestor Certaris mit den Airlines Delta und Air France-KLM im Hintergrund - solle bis Ende dieses Monats ausgewählt werden, sagten drei mit den Vorgängen Vertraute der Nachrichtenagentur Reuters am Montag. In dem seit Anfang des Jahres laufenden Prozess hatte die italienische Regierung die Interessenten zuletzt zu verbesserten Angeboten aufgefordert, die bis Montag um 24.00 Uhr vorliegen sollen.'"
      ]
     },
     "execution_count": 99,
     "metadata": {},
     "output_type": "execute_result"
    }
   ],
   "source": [
    "' '.join([word.strip() for word in soup_2.text.split()]).encode('latin').decode()"
   ]
  },
  {
   "cell_type": "code",
   "execution_count": null,
   "metadata": {},
   "outputs": [],
   "source": []
  }
 ],
 "metadata": {
  "interpreter": {
   "hash": "187b1988031df14b784b1ca83dcf6c508f75d9af158ade7af96a8719ac4cf2b2"
  },
  "kernelspec": {
   "display_name": "Python 3.8.5 ('base')",
   "language": "python",
   "name": "python3"
  },
  "language_info": {
   "codemirror_mode": {
    "name": "ipython",
    "version": 3
   },
   "file_extension": ".py",
   "mimetype": "text/x-python",
   "name": "python",
   "nbconvert_exporter": "python",
   "pygments_lexer": "ipython3",
   "version": "3.8.5"
  },
  "orig_nbformat": 4
 },
 "nbformat": 4,
 "nbformat_minor": 2
}
