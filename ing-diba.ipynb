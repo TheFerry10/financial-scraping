{
 "cells": [
  {
   "cell_type": "code",
   "execution_count": 146,
   "metadata": {},
   "outputs": [],
   "source": [
    "import os\n",
    "from glob import glob"
   ]
  },
  {
   "cell_type": "code",
   "execution_count": 160,
   "metadata": {},
   "outputs": [],
   "source": [
    "html_sites = glob(\"html-sites/*.html\")"
   ]
  },
  {
   "cell_type": "code",
   "execution_count": 161,
   "metadata": {},
   "outputs": [
    {
     "data": {
      "text/plain": [
       "['html-sites/Amazon 906866.html', 'html-sites/Microsoft 870747.html']"
      ]
     },
     "execution_count": 161,
     "metadata": {},
     "output_type": "execute_result"
    }
   ],
   "source": [
    "html_sites"
   ]
  },
  {
   "cell_type": "code",
   "execution_count": 162,
   "metadata": {},
   "outputs": [
    {
     "name": "stdout",
     "output_type": "stream",
     "text": [
      "html-sites/Amazon 906866.html\n"
     ]
    }
   ],
   "source": [
    "html_site = html_sites[0]\n",
    "print(html_site)"
   ]
  },
  {
   "cell_type": "code",
   "execution_count": 163,
   "metadata": {},
   "outputs": [],
   "source": [
    "from bs4 import BeautifulSoup\n",
    "\n",
    "with open(html_site) as fp:\n",
    "    soup = BeautifulSoup(fp, 'html.parser')\n",
    "\n"
   ]
  },
  {
   "cell_type": "code",
   "execution_count": 164,
   "metadata": {},
   "outputs": [
    {
     "data": {
      "text/plain": [
       "<title>Amazon 906866</title>"
      ]
     },
     "execution_count": 164,
     "metadata": {},
     "output_type": "execute_result"
    }
   ],
   "source": [
    "soup.title"
   ]
  },
  {
   "cell_type": "code",
   "execution_count": 165,
   "metadata": {},
   "outputs": [],
   "source": [
    "headline_content = soup.find(class_='headline-content')\n"
   ]
  },
  {
   "cell_type": "code",
   "execution_count": 166,
   "metadata": {},
   "outputs": [],
   "source": [
    "headline_classes = [\n",
    "    \"headline instrument-name\",\n",
    "    \"instrument-type-name\",\n",
    "    \"instrument-wkn\",\n",
    "    \"instrument-isin\",\n",
    "]\n",
    "\n",
    "basic_info = dict()"
   ]
  },
  {
   "cell_type": "code",
   "execution_count": 167,
   "metadata": {},
   "outputs": [],
   "source": [
    "for headline in headline_classes:\n",
    "    basic_info[headline] = headline_content.find(class_=headline).get_text()"
   ]
  },
  {
   "cell_type": "code",
   "execution_count": 168,
   "metadata": {},
   "outputs": [
    {
     "data": {
      "text/plain": [
       "{'headline instrument-name': 'Amazon',\n",
       " 'instrument-type-name': 'Aktie',\n",
       " 'instrument-wkn': '906866',\n",
       " 'instrument-isin': 'US0231351067'}"
      ]
     },
     "execution_count": 168,
     "metadata": {},
     "output_type": "execute_result"
    }
   ],
   "source": [
    "basic_info\n"
   ]
  },
  {
   "cell_type": "code",
   "execution_count": 169,
   "metadata": {},
   "outputs": [],
   "source": [
    "facts = dict()"
   ]
  },
  {
   "cell_type": "code",
   "execution_count": 170,
   "metadata": {},
   "outputs": [],
   "source": [
    "facts_table = soup.find('div', {'class': 'sh-facts-list'})"
   ]
  },
  {
   "cell_type": "code",
   "execution_count": 171,
   "metadata": {},
   "outputs": [],
   "source": [
    "rows = facts_table.find_all('tr')\n",
    "for row in rows:\n",
    "    key, value = [column.get_text() for column in row.find_all('td')]\n",
    "    facts[key] = value"
   ]
  },
  {
   "cell_type": "code",
   "execution_count": 172,
   "metadata": {},
   "outputs": [
    {
     "data": {
      "text/plain": [
       "{'Branche': 'Einzelhandel',\n",
       " 'Land': 'USA',\n",
       " 'Mitarbeiter': '1.608.000',\n",
       " 'Börsenwert': '58,1 Mrd. EUR (Groß)',\n",
       " 'Sparplanfähig': 'Ja'}"
      ]
     },
     "execution_count": 172,
     "metadata": {},
     "output_type": "execute_result"
    }
   ],
   "source": [
    "facts"
   ]
  },
  {
   "cell_type": "code",
   "execution_count": 175,
   "metadata": {},
   "outputs": [],
   "source": [
    "description = {'description': soup.find('div', 'description').get_text()}\n"
   ]
  },
  {
   "cell_type": "code",
   "execution_count": 176,
   "metadata": {},
   "outputs": [
    {
     "data": {
      "text/plain": [
       "{'description': 'Amazon.com ist ein international führender \\nOnline-Versandhändler. Bei Amazon finden Käufer neue und gebrauchte \\nWaren aus beinahe allen Bereichen der Konsumgüterindustrie. Bücher, \\nMusik, DVDs, Elektronikprodukte, Fotos, Digitale Downloads, Software, \\nPC- und  Videospiele werden ebenso angeboten wie Geräte für Küche, Haus \\nund Garten, Spielwaren, Sport- und Freizeitartikel, Schuhe und Schmuck, \\n...'}"
      ]
     },
     "execution_count": 176,
     "metadata": {},
     "output_type": "execute_result"
    }
   ],
   "source": [
    "description"
   ]
  },
  {
   "cell_type": "code",
   "execution_count": 177,
   "metadata": {},
   "outputs": [],
   "source": [
    "share_trends = soup.find('div', {'class':'sh-share-trends'})"
   ]
  },
  {
   "cell_type": "code",
   "execution_count": 178,
   "metadata": {},
   "outputs": [],
   "source": [
    "\n",
    "trends = [trend.get_text() for trend in share_trends.find_all('a', {'class': 'sh-button-default'})]\n",
    "\n"
   ]
  },
  {
   "cell_type": "code",
   "execution_count": 179,
   "metadata": {},
   "outputs": [
    {
     "data": {
      "text/plain": [
       "['Big Data',\n",
       " 'Bücher',\n",
       " 'China',\n",
       " 'Cloud Computing',\n",
       " 'Consumer-Electronics',\n",
       " 'Data Science',\n",
       " 'Deep Learning',\n",
       " 'E-Commerce China',\n",
       " 'Haushaltsroboter',\n",
       " 'Home Office',\n",
       " 'Internet-Titans',\n",
       " 'IT-Giganten',\n",
       " 'Machine Learning',\n",
       " 'Musik',\n",
       " 'Nasdaq 100',\n",
       " 'Online-Handel - Portale',\n",
       " 'Online-Musik',\n",
       " 'Post/ Paketdienste',\n",
       " 'Quantencomputer',\n",
       " 'Robotik',\n",
       " 'S&P 500',\n",
       " 'Technikgetriebene Trends',\n",
       " 'Technologie-Portfolios',\n",
       " 'Video-Portale']"
      ]
     },
     "execution_count": 179,
     "metadata": {},
     "output_type": "execute_result"
    }
   ],
   "source": [
    "trends"
   ]
  },
  {
   "cell_type": "code",
   "execution_count": 180,
   "metadata": {},
   "outputs": [],
   "source": [
    "share_affiliated_indexes = [index.get_text() for index in soup.find('div', {'class':'sh-share-affiliated-indexes'}).find_all('a', {'class':'sh-button-default'})]"
   ]
  },
  {
   "cell_type": "code",
   "execution_count": 181,
   "metadata": {},
   "outputs": [
    {
     "data": {
      "text/plain": [
       "['NASDAQ 100', 'S&P 500']"
      ]
     },
     "execution_count": 181,
     "metadata": {},
     "output_type": "execute_result"
    }
   ],
   "source": [
    "share_affiliated_indexes"
   ]
  },
  {
   "cell_type": "code",
   "execution_count": null,
   "metadata": {},
   "outputs": [],
   "source": []
  }
 ],
 "metadata": {
  "interpreter": {
   "hash": "187b1988031df14b784b1ca83dcf6c508f75d9af158ade7af96a8719ac4cf2b2"
  },
  "kernelspec": {
   "display_name": "Python 3.8.5 ('base')",
   "language": "python",
   "name": "python3"
  },
  "language_info": {
   "codemirror_mode": {
    "name": "ipython",
    "version": 3
   },
   "file_extension": ".py",
   "mimetype": "text/x-python",
   "name": "python",
   "nbconvert_exporter": "python",
   "pygments_lexer": "ipython3",
   "version": "3.8.5"
  },
  "orig_nbformat": 4
 },
 "nbformat": 4,
 "nbformat_minor": 2
}
