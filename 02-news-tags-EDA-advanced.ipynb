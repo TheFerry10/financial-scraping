{
 "cells": [
  {
   "cell_type": "markdown",
   "metadata": {},
   "source": [
    "# Topic modeling for tags"
   ]
  },
  {
   "cell_type": "markdown",
   "metadata": {},
   "source": [
    "1. Content aggregation: By scraping news headlines and tags from multiple sources, it is possible to create a news aggregation platform that provides a comprehensive overview of the latest stories on a variety of topics.\n",
    "\n",
    "2. Sentiment analysis: By analyzing the sentiment of news headlines over time, it is possible to track changes in public opinion on various topics. This could be useful for businesses, governments, and other organizations that want to understand how their actions or policies are being received by the public.\n",
    "\n",
    "3. Market research: By tracking the frequency and content of news articles related to specific industries or companies, it is possible to gain insights into market trends and the performance of individual firms.\n",
    "\n",
    "4. Media monitoring: By tracking the publication of news articles related to a specific person, company, or topic, it is possible to monitor media coverage and respond to any negative or false information that may be published.\n",
    "\n",
    "5. Data visualization: By visualizing the volume and content of news articles over time, it is possible to create graphical representations of trends and patterns in the news. This could be useful for journalists, researchers, or anyone interested in understanding how a particular topic has evolved over time."
   ]
  },
  {
   "cell_type": "markdown",
   "metadata": {},
   "source": [
    "How does a topic evolve over time?"
   ]
  },
  {
   "cell_type": "code",
   "execution_count": 86,
   "metadata": {},
   "outputs": [],
   "source": [
    "import pandas as pd\n",
    "from collections import Counter\n",
    "import itertools\n",
    "import seaborn as sns\n",
    "import matplotlib.pyplot as plt\n",
    "import matplotlib.dates as mdates\n",
    "from matplotlib.dates import DateFormatter\n",
    "sns.set_theme(style=\"ticks\")\n",
    "sns.set_palette(\"Paired\")\n",
    "\n",
    "from typing import List, Dict"
   ]
  },
  {
   "cell_type": "code",
   "execution_count": 87,
   "metadata": {},
   "outputs": [],
   "source": [
    "def flatten(l):\n",
    "    return [item for sublist in l for item in sublist]"
   ]
  },
  {
   "cell_type": "code",
   "execution_count": 88,
   "metadata": {},
   "outputs": [],
   "source": [
    "# load cleaned dataset\n",
    "df_news = pd.read_parquet(\"data/news/tagesschau/2022/tagesschau-news.parquet\")\n",
    "df_news['tags'] = df_news['tags'].apply(lambda x: x.split(','))\n",
    "\n",
    "# What are the top tags?\n",
    "df_top_n_tags_for_2022 = pd.read_parquet(\"data/news/tagesschau/2022/tagesschau-top-tags.parquet\")"
   ]
  },
  {
   "cell_type": "code",
   "execution_count": 120,
   "metadata": {},
   "outputs": [],
   "source": [
    "def find_cooccurring_tags(article_tags: List[List[str]], target_tag: str, duplicates: bool=True) -> List[str]:\n",
    "    \"\"\"\n",
    "    Finds all tags and their frequency that co-occur with the target tag in a list of article tags. \n",
    "    \n",
    "    Parameters:\n",
    "        - article_tags (list of list): List of lists where each list contains tags of an article.\n",
    "        - target_tag (str): The tag for which co-occurring tags need to be found.\n",
    "        - duplicates (bool): If False, return each co-occurring tag just once.\n",
    "    \n",
    "    Returns:\n",
    "        - list: A list of co-occurring tags.\n",
    "    \"\"\"\n",
    "    cooccurring_tags = []\n",
    "    for tags in article_tags:\n",
    "        if target_tag in tags:\n",
    "            for tag in tags:\n",
    "                if tag != target_tag:\n",
    "                        cooccurring_tags.append(tag)\n",
    "    if duplicates:\n",
    "        return cooccurring_tags\n",
    "    else:\n",
    "        return list(set(cooccurring_tags))\n",
    "\n",
    "def calculate_relative_counts(tags: List[str]) -> Dict[str, float]:\n",
    "    \"\"\"\n",
    "    Given a list of tags, it returns a dictionary of relative frequency of each tag in the list.\n",
    "\n",
    "    Parameters:\n",
    "    - tags (List[str]): A list of tags whose relative frequency needs to be calculated.\n",
    "\n",
    "    Returns:\n",
    "    - Dict[str, float]: A dictionary of relative frequency of each tag.\n",
    "    \"\"\"\n",
    "    tag_counter = Counter(tags)\n",
    "    total_count = sum(tag_counter.values())\n",
    "    relative_counts = {tag: count/total_count for tag, count in tag_counter.items()}\n",
    "    return relative_counts\n",
    "\n",
    "\n",
    "def calculate_absolute_counts(tags: List[str]) -> Dict[str, float]:\n",
    "    \"\"\"\n",
    "    Given a list of tags, it returns a dictionary of absolute frequency of each tag in the list.\n",
    "\n",
    "    Parameters:\n",
    "    - tags (List[str]): A list of tags whose absolute frequency needs to be calculated.\n",
    "\n",
    "    Returns:\n",
    "    - Dict[str, float]: A dictionary of absolute frequency of each tag.\n",
    "    \"\"\"\n",
    "    absolute_counts = Counter(tags)\n",
    "    return dict(absolute_counts)\n",
    "\n",
    "\n",
    "def get_cooccurring_counts(article_tags: List[str], target_tag: str) -> pd.DataFrame:\n",
    "    \"\"\"\n",
    "    Given a list of tags and a target tag, it returns a DataFrame containing the relative and absolute counts \n",
    "    of co-occurring tags and target tag.\n",
    "\n",
    "    Parameters:\n",
    "    - tags (List[str]): A list of tags whose co-occurring tags needs to be calculated.\n",
    "    - target_tag (str): The target tag whose co-occurring tags need to be calculated\n",
    "\n",
    "    Returns:\n",
    "    - pd.DataFrame: A DataFrame containing the relative and absolute counts of co-occurring tags and target tag.\n",
    "    \"\"\"\n",
    "    cooccurring_tags = find_cooccurring_tags(article_tags, target_tag)\n",
    "    df_cooccurring_tags = pd.DataFrame({\n",
    "        'relative_count': calculate_relative_counts(cooccurring_tags),\n",
    "        'absolute_count': calculate_absolute_counts(cooccurring_tags)\n",
    "        }).reset_index().rename(columns={'index': 'cooccurring_tag'})\n",
    "    df_cooccurring_tags['tag'] = target_tag\n",
    "    return df_cooccurring_tags.sort_values('absolute_count', ascending=False).reset_index(drop=True)\n",
    "\n",
    "def get_cooccurring_tag_counts_matrix(article_tags: List[str], target_tags: List[str]) -> pd.DataFrame:\n",
    "    cooccurring_tag_counts_matrix = pd.DataFrame()\n",
    "    for target_tag in target_tags:\n",
    "        cooccurring_tag_counts = get_cooccurring_counts(article_tags, target_tag)\n",
    "        cooccurring_tag_counts_matrix = pd.concat([cooccurring_tag_counts_matrix, cooccurring_tag_counts], axis=0)\n",
    "    return cooccurring_tag_counts_matrix\n",
    "\n",
    "def test_cooccurring_tag_counts_matrix():\n",
    "    article_tags = [\n",
    "        [\"Papst Benedikt XVI.\", \"Vatikan\", \"Papst\"],\n",
    "        [\"Ukraine\", \"Angriffe\", \"Russland\", \"Kiew\"],\n",
    "        [\"Ukraine\", \"Russland\"]\n",
    "    ]\n",
    "    target_tags = [\"Russland\", \"Papst\"]\n",
    "    cooccurring_tag_counts_matrix = get_cooccurring_tag_counts_matrix(article_tags, target_tags)\n",
    "    return cooccurring_tag_counts_matrix"
   ]
  },
  {
   "cell_type": "code",
   "execution_count": 121,
   "metadata": {},
   "outputs": [],
   "source": [
    "cooccurring_tag_counts_matrix = get_cooccurring_tag_counts_matrix(article_tags=df_news['tags'], target_tags=df_top_n_tags_for_2022['tag'])"
   ]
  },
  {
   "cell_type": "code",
   "execution_count": 124,
   "metadata": {},
   "outputs": [
    {
     "data": {
      "text/html": [
       "<div>\n",
       "<style scoped>\n",
       "    .dataframe tbody tr th:only-of-type {\n",
       "        vertical-align: middle;\n",
       "    }\n",
       "\n",
       "    .dataframe tbody tr th {\n",
       "        vertical-align: top;\n",
       "    }\n",
       "\n",
       "    .dataframe thead th {\n",
       "        text-align: right;\n",
       "    }\n",
       "</style>\n",
       "<table border=\"1\" class=\"dataframe\">\n",
       "  <thead>\n",
       "    <tr style=\"text-align: right;\">\n",
       "      <th></th>\n",
       "      <th>cooccurring_tag</th>\n",
       "      <th>relative_count</th>\n",
       "      <th>absolute_count</th>\n",
       "      <th>tag</th>\n",
       "    </tr>\n",
       "  </thead>\n",
       "  <tbody>\n",
       "    <tr>\n",
       "      <th>0</th>\n",
       "      <td>Russland</td>\n",
       "      <td>0.146382</td>\n",
       "      <td>967</td>\n",
       "      <td>Ukraine</td>\n",
       "    </tr>\n",
       "    <tr>\n",
       "      <th>1</th>\n",
       "      <td>Liveblog</td>\n",
       "      <td>0.046019</td>\n",
       "      <td>304</td>\n",
       "      <td>Ukraine</td>\n",
       "    </tr>\n",
       "    <tr>\n",
       "      <th>2</th>\n",
       "      <td>Krieg</td>\n",
       "      <td>0.040418</td>\n",
       "      <td>267</td>\n",
       "      <td>Ukraine</td>\n",
       "    </tr>\n",
       "    <tr>\n",
       "      <th>3</th>\n",
       "      <td>Ukraine-Krieg</td>\n",
       "      <td>0.034514</td>\n",
       "      <td>228</td>\n",
       "      <td>Ukraine</td>\n",
       "    </tr>\n",
       "    <tr>\n",
       "      <th>4</th>\n",
       "      <td>Mariupol</td>\n",
       "      <td>0.018317</td>\n",
       "      <td>121</td>\n",
       "      <td>Ukraine</td>\n",
       "    </tr>\n",
       "    <tr>\n",
       "      <th>...</th>\n",
       "      <td>...</td>\n",
       "      <td>...</td>\n",
       "      <td>...</td>\n",
       "      <td>...</td>\n",
       "    </tr>\n",
       "    <tr>\n",
       "      <th>9</th>\n",
       "      <td>Aktien</td>\n",
       "      <td>0.015697</td>\n",
       "      <td>24</td>\n",
       "      <td>Börse</td>\n",
       "    </tr>\n",
       "    <tr>\n",
       "      <th>10</th>\n",
       "      <td>Kurssturz</td>\n",
       "      <td>0.014388</td>\n",
       "      <td>22</td>\n",
       "      <td>Börse</td>\n",
       "    </tr>\n",
       "    <tr>\n",
       "      <th>11</th>\n",
       "      <td>Tesla</td>\n",
       "      <td>0.013734</td>\n",
       "      <td>21</td>\n",
       "      <td>Börse</td>\n",
       "    </tr>\n",
       "    <tr>\n",
       "      <th>12</th>\n",
       "      <td>Geldanlage</td>\n",
       "      <td>0.013734</td>\n",
       "      <td>21</td>\n",
       "      <td>Börse</td>\n",
       "    </tr>\n",
       "    <tr>\n",
       "      <th>13</th>\n",
       "      <td>Apple</td>\n",
       "      <td>0.013080</td>\n",
       "      <td>20</td>\n",
       "      <td>Börse</td>\n",
       "    </tr>\n",
       "  </tbody>\n",
       "</table>\n",
       "<p>189 rows × 4 columns</p>\n",
       "</div>"
      ],
      "text/plain": [
       "   cooccurring_tag  relative_count  absolute_count      tag\n",
       "0         Russland        0.146382             967  Ukraine\n",
       "1         Liveblog        0.046019             304  Ukraine\n",
       "2            Krieg        0.040418             267  Ukraine\n",
       "3    Ukraine-Krieg        0.034514             228  Ukraine\n",
       "4         Mariupol        0.018317             121  Ukraine\n",
       "..             ...             ...             ...      ...\n",
       "9           Aktien        0.015697              24    Börse\n",
       "10       Kurssturz        0.014388              22    Börse\n",
       "11           Tesla        0.013734              21    Börse\n",
       "12      Geldanlage        0.013734              21    Börse\n",
       "13           Apple        0.013080              20    Börse\n",
       "\n",
       "[189 rows x 4 columns]"
      ]
     },
     "execution_count": 124,
     "metadata": {},
     "output_type": "execute_result"
    }
   ],
   "source": [
    "cooccurring_tag_counts_matrix.query(\"relative_count > 0.01\")"
   ]
  },
  {
   "cell_type": "code",
   "execution_count": 123,
   "metadata": {},
   "outputs": [
    {
     "data": {
      "text/plain": [
       "<AxesSubplot:xlabel='absolute_count', ylabel='cooccurring_tag'>"
      ]
     },
     "execution_count": 123,
     "metadata": {},
     "output_type": "execute_result"
    },
    {
     "data": {
      "image/png": "[encoded data removed]",
      "text/plain": [
       "<Figure size 640x480 with 1 Axes>"
      ]
     },
     "metadata": {},
     "output_type": "display_data"
    }
   ],
   "source": [
    "fig, ax = plt.subplots()\n",
    "sns.barplot(data=cooccurring_tag_counts_matrix.query(\"(relative_count > 0.01) & (tag == 'Russland')\"), y='cooccurring_tag', x='absolute_count', color='C0')"
   ]
  },
  {
   "cell_type": "markdown",
   "metadata": {},
   "source": [
    "## Analyze the intersection between topics based on the related tags"
   ]
  },
  {
   "cell_type": "markdown",
   "metadata": {},
   "source": [
    "Let's assume that the topics are represented by the most frequently used tags throughout the year. Following this idea, *Ukraine*, *Russland* or *Coronavirus* are examples for topics in the last year. While *Coronavirus* and *Ukraine* can be most likely treated as independent topics, *Russland* and *Ukraine*, on the other hand, are strongly correlated. The topic quality can be increased by merging correlating topics, such that ultimately only topics remain that differentiate strongly from one another. \n",
    "For this reason, a metric that quantifies the overlap between topic pairs is necessary. For the first attempt, the overlap between two sets of co-occurring tags corresponding to a topic pair can be utilized as a similarity measure. "
   ]
  },
  {
   "cell_type": "code",
   "execution_count": 125,
   "metadata": {},
   "outputs": [
    {
     "name": "stdout",
     "output_type": "stream",
     "text": [
      "0           Ukraine\n",
      "1          Russland\n",
      "2       Coronavirus\n",
      "3               USA\n",
      "4      Energiekrise\n",
      "5                EU\n",
      "6     Ukraine-Krieg\n",
      "7             China\n",
      "8          Liveblog\n",
      "9         Inflation\n",
      "10     Investigativ\n",
      "11            Krieg\n",
      "12              DAX\n",
      "13           Scholz\n",
      "14            Börse\n",
      "Name: tag, dtype: object\n"
     ]
    }
   ],
   "source": [
    "topics = df_top_n_tags_for_2022['tag']\n",
    "print(topics)"
   ]
  },
  {
   "cell_type": "markdown",
   "metadata": {},
   "source": [
    "There are several ways to create all pairs from a list in Python, depending on the desired output format and level of complexity. Here we are using the module itertools"
   ]
  },
  {
   "cell_type": "code",
   "execution_count": 126,
   "metadata": {},
   "outputs": [
    {
     "name": "stdout",
     "output_type": "stream",
     "text": [
      "[('Ukraine', 'Russland'), ('Ukraine', 'Coronavirus'), ('Ukraine', 'USA'), ('Ukraine', 'Energiekrise'), ('Ukraine', 'EU'), ('Ukraine', 'Ukraine-Krieg'), ('Ukraine', 'China'), ('Ukraine', 'Liveblog'), ('Ukraine', 'Inflation'), ('Ukraine', 'Investigativ'), ('Ukraine', 'Krieg'), ('Ukraine', 'DAX'), ('Ukraine', 'Scholz'), ('Ukraine', 'Börse'), ('Russland', 'Coronavirus'), ('Russland', 'USA'), ('Russland', 'Energiekrise'), ('Russland', 'EU'), ('Russland', 'Ukraine-Krieg'), ('Russland', 'China'), ('Russland', 'Liveblog'), ('Russland', 'Inflation'), ('Russland', 'Investigativ'), ('Russland', 'Krieg'), ('Russland', 'DAX'), ('Russland', 'Scholz'), ('Russland', 'Börse'), ('Coronavirus', 'USA'), ('Coronavirus', 'Energiekrise'), ('Coronavirus', 'EU'), ('Coronavirus', 'Ukraine-Krieg'), ('Coronavirus', 'China'), ('Coronavirus', 'Liveblog'), ('Coronavirus', 'Inflation'), ('Coronavirus', 'Investigativ'), ('Coronavirus', 'Krieg'), ('Coronavirus', 'DAX'), ('Coronavirus', 'Scholz'), ('Coronavirus', 'Börse'), ('USA', 'Energiekrise'), ('USA', 'EU'), ('USA', 'Ukraine-Krieg'), ('USA', 'China'), ('USA', 'Liveblog'), ('USA', 'Inflation'), ('USA', 'Investigativ'), ('USA', 'Krieg'), ('USA', 'DAX'), ('USA', 'Scholz'), ('USA', 'Börse'), ('Energiekrise', 'EU'), ('Energiekrise', 'Ukraine-Krieg'), ('Energiekrise', 'China'), ('Energiekrise', 'Liveblog'), ('Energiekrise', 'Inflation'), ('Energiekrise', 'Investigativ'), ('Energiekrise', 'Krieg'), ('Energiekrise', 'DAX'), ('Energiekrise', 'Scholz'), ('Energiekrise', 'Börse'), ('EU', 'Ukraine-Krieg'), ('EU', 'China'), ('EU', 'Liveblog'), ('EU', 'Inflation'), ('EU', 'Investigativ'), ('EU', 'Krieg'), ('EU', 'DAX'), ('EU', 'Scholz'), ('EU', 'Börse'), ('Ukraine-Krieg', 'China'), ('Ukraine-Krieg', 'Liveblog'), ('Ukraine-Krieg', 'Inflation'), ('Ukraine-Krieg', 'Investigativ'), ('Ukraine-Krieg', 'Krieg'), ('Ukraine-Krieg', 'DAX'), ('Ukraine-Krieg', 'Scholz'), ('Ukraine-Krieg', 'Börse'), ('China', 'Liveblog'), ('China', 'Inflation'), ('China', 'Investigativ'), ('China', 'Krieg'), ('China', 'DAX'), ('China', 'Scholz'), ('China', 'Börse'), ('Liveblog', 'Inflation'), ('Liveblog', 'Investigativ'), ('Liveblog', 'Krieg'), ('Liveblog', 'DAX'), ('Liveblog', 'Scholz'), ('Liveblog', 'Börse'), ('Inflation', 'Investigativ'), ('Inflation', 'Krieg'), ('Inflation', 'DAX'), ('Inflation', 'Scholz'), ('Inflation', 'Börse'), ('Investigativ', 'Krieg'), ('Investigativ', 'DAX'), ('Investigativ', 'Scholz'), ('Investigativ', 'Börse'), ('Krieg', 'DAX'), ('Krieg', 'Scholz'), ('Krieg', 'Börse'), ('DAX', 'Scholz'), ('DAX', 'Börse'), ('Scholz', 'Börse')]\n"
     ]
    }
   ],
   "source": [
    "\n",
    "topic_pairs = list(itertools.combinations(topics, 2))\n",
    "print(topic_pairs)\n"
   ]
  },
  {
   "cell_type": "code",
   "execution_count": 178,
   "metadata": {},
   "outputs": [],
   "source": [
    "from typing import Literal, Union"
   ]
  },
  {
   "cell_type": "code",
   "execution_count": 185,
   "metadata": {},
   "outputs": [],
   "source": [
    "def similarity_score_sample_sets(set1: set, set2: set, method: Literal[\"jaccard\", \"overlap\", \"dice\"]=\"jaccard\") -> Dict[str, Union[float,str,List[str]]]:\n",
    "    if method == \"jaccard\":\n",
    "        score = len(set1.intersection(set2)) / len(set1.union(set2))\n",
    "    elif method == \"overlap\":\n",
    "        score = len(set1.intersection(set2)) / min(len(set1), len(set2))\n",
    "    elif method == \"dice\":\n",
    "        score = 2 * len(set1.intersection(set2)) / (len(set1) + len(set2))\n",
    "    else:\n",
    "        raise ValueError(f\"Method {method} not known.\")\n",
    "    \n",
    "    return score\n",
    "\n",
    "def get_similarity_for_topic_pair(topic_pair: tuple, threshold_relative_count: float=0.05, method: Literal[\"jaccard\", \"overlap\", \"dice\"]=\"jaccard\"):\n",
    "    set1, set2 = [set(cooccurring_tag_counts_matrix.query(\"(relative_count > @threshold_relative_count) & (tag == @topic)\")['cooccurring_tag']) for topic in topic_pair]\n",
    "    tag_intersection = list(set1.intersection(set2))\n",
    "    similarity_score = similarity_score_sample_sets(set1,set2, method=method)\n",
    "    return {'tags': tag_intersection, 'similarity': similarity_score, 'method': method}"
   ]
  },
  {
   "cell_type": "code",
   "execution_count": 186,
   "metadata": {},
   "outputs": [],
   "source": [
    "multi_index = pd.MultiIndex.from_tuples(topic_pairs)\n",
    "topic_pair_similarity = pd.DataFrame(data={'tags': None, 'similarity': None}, index=multi_index)\n",
    "\n",
    "for topic_pair in topic_pairs:\n",
    "    similarity_for_topic_pair = get_similarity_for_topic_pair(topic_pair, method='overlap')\n",
    "    topic_pair_similarity.loc[topic_pair, 'tags'] = similarity_for_topic_pair['tags']\n",
    "    topic_pair_similarity.loc[topic_pair, 'similarity'] = similarity_for_topic_pair['similarity']\n",
    "\n"
   ]
  },
  {
   "cell_type": "code",
   "execution_count": 187,
   "metadata": {},
   "outputs": [
    {
     "data": {
      "text/html": [
       "<div>\n",
       "<style scoped>\n",
       "    .dataframe tbody tr th:only-of-type {\n",
       "        vertical-align: middle;\n",
       "    }\n",
       "\n",
       "    .dataframe tbody tr th {\n",
       "        vertical-align: top;\n",
       "    }\n",
       "\n",
       "    .dataframe thead th {\n",
       "        text-align: right;\n",
       "    }\n",
       "</style>\n",
       "<table border=\"1\" class=\"dataframe\">\n",
       "  <thead>\n",
       "    <tr style=\"text-align: right;\">\n",
       "      <th></th>\n",
       "      <th></th>\n",
       "      <th>tags</th>\n",
       "      <th>similarity</th>\n",
       "    </tr>\n",
       "  </thead>\n",
       "  <tbody>\n",
       "    <tr>\n",
       "      <th rowspan=\"5\" valign=\"top\">Ukraine</th>\n",
       "      <th>Russland</th>\n",
       "      <td>[Krieg, USA, Sanktionen, Mariupol, Ukraine-Kri...</td>\n",
       "      <td>0.608696</td>\n",
       "    </tr>\n",
       "    <tr>\n",
       "      <th>Coronavirus</th>\n",
       "      <td>[Liveblog, USA]</td>\n",
       "      <td>0.083333</td>\n",
       "    </tr>\n",
       "    <tr>\n",
       "      <th>USA</th>\n",
       "      <td>[Sanktionen, NATO, Russland, Biden, EU]</td>\n",
       "      <td>0.227273</td>\n",
       "    </tr>\n",
       "    <tr>\n",
       "      <th>Energiekrise</th>\n",
       "      <td>[Sanktionen, Scholz, EU, Russland]</td>\n",
       "      <td>0.166667</td>\n",
       "    </tr>\n",
       "    <tr>\n",
       "      <th>EU</th>\n",
       "      <td>[USA, Sanktionen, Ukraine-Krieg, Scholz, NATO,...</td>\n",
       "      <td>0.375</td>\n",
       "    </tr>\n",
       "    <tr>\n",
       "      <th>...</th>\n",
       "      <th>...</th>\n",
       "      <td>...</td>\n",
       "      <td>...</td>\n",
       "    </tr>\n",
       "    <tr>\n",
       "      <th rowspan=\"2\" valign=\"top\">Krieg</th>\n",
       "      <th>Scholz</th>\n",
       "      <td>[Ukraine, Russland, Putin, Kiew, Deutschland, EU]</td>\n",
       "      <td>0.3</td>\n",
       "    </tr>\n",
       "    <tr>\n",
       "      <th>Börse</th>\n",
       "      <td>[Ukraine, Russland]</td>\n",
       "      <td>0.1</td>\n",
       "    </tr>\n",
       "    <tr>\n",
       "      <th rowspan=\"2\" valign=\"top\">DAX</th>\n",
       "      <th>Scholz</th>\n",
       "      <td>[China, Inflation, Russland, Ukraine]</td>\n",
       "      <td>0.125</td>\n",
       "    </tr>\n",
       "    <tr>\n",
       "      <th>Börse</th>\n",
       "      <td>[Marktbericht, Tesla, Euro, Fed, Gaskrise, Inf...</td>\n",
       "      <td>0.965517</td>\n",
       "    </tr>\n",
       "    <tr>\n",
       "      <th>Scholz</th>\n",
       "      <th>Börse</th>\n",
       "      <td>[Inflation, Russland, Ukraine]</td>\n",
       "      <td>0.103448</td>\n",
       "    </tr>\n",
       "  </tbody>\n",
       "</table>\n",
       "<p>105 rows × 2 columns</p>\n",
       "</div>"
      ],
      "text/plain": [
       "                                                                   tags  \\\n",
       "Ukraine Russland      [Krieg, USA, Sanktionen, Mariupol, Ukraine-Kri...   \n",
       "        Coronavirus                                     [Liveblog, USA]   \n",
       "        USA                     [Sanktionen, NATO, Russland, Biden, EU]   \n",
       "        Energiekrise                 [Sanktionen, Scholz, EU, Russland]   \n",
       "        EU            [USA, Sanktionen, Ukraine-Krieg, Scholz, NATO,...   \n",
       "...                                                                 ...   \n",
       "Krieg   Scholz        [Ukraine, Russland, Putin, Kiew, Deutschland, EU]   \n",
       "        Börse                                       [Ukraine, Russland]   \n",
       "DAX     Scholz                    [China, Inflation, Russland, Ukraine]   \n",
       "        Börse         [Marktbericht, Tesla, Euro, Fed, Gaskrise, Inf...   \n",
       "Scholz  Börse                            [Inflation, Russland, Ukraine]   \n",
       "\n",
       "                     similarity  \n",
       "Ukraine Russland       0.608696  \n",
       "        Coronavirus    0.083333  \n",
       "        USA            0.227273  \n",
       "        Energiekrise   0.166667  \n",
       "        EU                0.375  \n",
       "...                         ...  \n",
       "Krieg   Scholz              0.3  \n",
       "        Börse               0.1  \n",
       "DAX     Scholz            0.125  \n",
       "        Börse          0.965517  \n",
       "Scholz  Börse          0.103448  \n",
       "\n",
       "[105 rows x 2 columns]"
      ]
     },
     "execution_count": 187,
     "metadata": {},
     "output_type": "execute_result"
    }
   ],
   "source": [
    "topic_pair_similarity"
   ]
  },
  {
   "cell_type": "markdown",
   "metadata": {},
   "source": [
    "The Jaccard similarity, the overlap coefficient, and the Dice coefficient are all measures of similarity between two sets. However, they are defined slightly differently, and thus have different properties.\n",
    "\n",
    "Jaccard similarity: This is defined as the size of the intersection of two sets divided by the size of the union of the two sets. It ranges from 0 to 1, with a value of 1 indicating that the two sets are identical and a value of 0 indicating that they have no elements in common. Jaccard similarity is sensitive to the relative size of the two sets, and it tends to favor smaller sets.\n",
    "\n",
    "Overlap coefficient: This is defined as the size of the intersection of two sets divided by the smaller of the two set sizes. It ranges from 0 to 1, with a value of 1 indicating that the two sets are identical and a value of 0 indicating that they have no elements in common. The overlap coefficient is less sensitive to the relative size of the two sets than Jaccard similarity.\n",
    "\n",
    "Dice coefficient: This is defined as twice the size of the intersection of two sets divided by the sum of the sizes of the two sets. It ranges from 0 to 1, with a value of 1 indicating that the two sets are identical and a value of 0 indicating that they have no elements in common. Dice coefficient is similar to the overlap coefficient, but it tends to be slightly more sensitive to the relative size of the two sets than the overlap coefficient.\n",
    "\n",
    "In general, Jaccard similarity, Overlap coefficient, and Dice coefficient all gives the same results but they are sensitive to the different situations. Jaccard similarity is best used when both sets are of similar size and you want to give equal weight to the presence and absence of elements. Overlap coefficient is best used when both sets are of different size and you want to give more weight to the presence of elements. Dice coefficient is best used when both sets are of similar size and you want to give more weight to the presence of elements."
   ]
  },
  {
   "cell_type": "markdown",
   "metadata": {},
   "source": [
    "### Evaluate the similarity measure"
   ]
  },
  {
   "cell_type": "code",
   "execution_count": 189,
   "metadata": {},
   "outputs": [
    {
     "data": {
      "text/html": [
       "<div>\n",
       "<style scoped>\n",
       "    .dataframe tbody tr th:only-of-type {\n",
       "        vertical-align: middle;\n",
       "    }\n",
       "\n",
       "    .dataframe tbody tr th {\n",
       "        vertical-align: top;\n",
       "    }\n",
       "\n",
       "    .dataframe thead th {\n",
       "        text-align: right;\n",
       "    }\n",
       "</style>\n",
       "<table border=\"1\" class=\"dataframe\">\n",
       "  <thead>\n",
       "    <tr style=\"text-align: right;\">\n",
       "      <th></th>\n",
       "      <th></th>\n",
       "      <th>tags</th>\n",
       "      <th>similarity</th>\n",
       "    </tr>\n",
       "  </thead>\n",
       "  <tbody>\n",
       "    <tr>\n",
       "      <th rowspan=\"2\" valign=\"top\">Ukraine</th>\n",
       "      <th>Russland</th>\n",
       "      <td>[Krieg, USA, Sanktionen, Mariupol, Ukraine-Kri...</td>\n",
       "      <td>0.608696</td>\n",
       "    </tr>\n",
       "    <tr>\n",
       "      <th>Ukraine-Krieg</th>\n",
       "      <td>[Cherson, Flüchtlinge, Liveblog, Charkiw, Sank...</td>\n",
       "      <td>0.727273</td>\n",
       "    </tr>\n",
       "    <tr>\n",
       "      <th>Russland</th>\n",
       "      <th>Ukraine-Krieg</th>\n",
       "      <td>[USA, Sanktionen, China, Scholz, Energie, NATO...</td>\n",
       "      <td>0.590909</td>\n",
       "    </tr>\n",
       "    <tr>\n",
       "      <th>China</th>\n",
       "      <th>Liveblog</th>\n",
       "      <td>[Corona, Corona-Pandemie, Ukraine-Krieg, Ukrai...</td>\n",
       "      <td>1.0</td>\n",
       "    </tr>\n",
       "    <tr>\n",
       "      <th rowspan=\"2\" valign=\"top\">Liveblog</th>\n",
       "      <th>Investigativ</th>\n",
       "      <td>[Corona-Pandemie, Ukraine-Krieg, Ukraine, Russ...</td>\n",
       "      <td>0.833333</td>\n",
       "    </tr>\n",
       "    <tr>\n",
       "      <th>Scholz</th>\n",
       "      <td>[Coronavirus, Ukraine-Krieg, Russland, Ukraine]</td>\n",
       "      <td>0.666667</td>\n",
       "    </tr>\n",
       "    <tr>\n",
       "      <th>DAX</th>\n",
       "      <th>Börse</th>\n",
       "      <td>[Marktbericht, Tesla, Euro, Fed, Gaskrise, Inf...</td>\n",
       "      <td>0.965517</td>\n",
       "    </tr>\n",
       "  </tbody>\n",
       "</table>\n",
       "</div>"
      ],
      "text/plain": [
       "                                                                     tags  \\\n",
       "Ukraine  Russland       [Krieg, USA, Sanktionen, Mariupol, Ukraine-Kri...   \n",
       "         Ukraine-Krieg  [Cherson, Flüchtlinge, Liveblog, Charkiw, Sank...   \n",
       "Russland Ukraine-Krieg  [USA, Sanktionen, China, Scholz, Energie, NATO...   \n",
       "China    Liveblog       [Corona, Corona-Pandemie, Ukraine-Krieg, Ukrai...   \n",
       "Liveblog Investigativ   [Corona-Pandemie, Ukraine-Krieg, Ukraine, Russ...   \n",
       "         Scholz           [Coronavirus, Ukraine-Krieg, Russland, Ukraine]   \n",
       "DAX      Börse          [Marktbericht, Tesla, Euro, Fed, Gaskrise, Inf...   \n",
       "\n",
       "                       similarity  \n",
       "Ukraine  Russland        0.608696  \n",
       "         Ukraine-Krieg   0.727273  \n",
       "Russland Ukraine-Krieg   0.590909  \n",
       "China    Liveblog             1.0  \n",
       "Liveblog Investigativ    0.833333  \n",
       "         Scholz          0.666667  \n",
       "DAX      Börse           0.965517  "
      ]
     },
     "execution_count": 189,
     "metadata": {},
     "output_type": "execute_result"
    }
   ],
   "source": [
    "topic_pair_similarity.query(\"similarity > 0.5\")"
   ]
  },
  {
   "cell_type": "code",
   "execution_count": 13,
   "metadata": {},
   "outputs": [],
   "source": [
    "aggregated_topics = pd.DataFrame(df_tag_mapping.query(\"score > 0.5\").index.tolist(), columns=['tag_1', 'tag_2'])\\\n",
    "    .groupby('tag_1')\\\n",
    "    .agg(lambda x: ','.join(x)).reset_index()\\\n",
    "    .apply(lambda x: ','.join(x), axis=1)\\\n",
    "    .tolist()"
   ]
  },
  {
   "cell_type": "code",
   "execution_count": 14,
   "metadata": {},
   "outputs": [
    {
     "name": "stdout",
     "output_type": "stream",
     "text": [
      "Topics:  ['Ukraine', 'Russland', 'Coronavirus', 'USA', 'Energiekrise', 'EU', 'Ukraine-Krieg', 'China', 'Liveblog', 'Inflation', 'Investigativ', 'Krieg', 'DAX', 'Scholz', 'Börse']\n",
      "Aggregated topics:  ['DAX,Börse', 'Liveblog,Investigativ,Scholz', 'Ukraine,Russland,Ukraine-Krieg']\n"
     ]
    }
   ],
   "source": [
    "print(\"Topics: \", topics)\n",
    "print(\"Aggregated topics: \", aggregated_topics)"
   ]
  },
  {
   "cell_type": "code",
   "execution_count": 15,
   "metadata": {},
   "outputs": [
    {
     "name": "stdout",
     "output_type": "stream",
     "text": [
      "New topics:  ['Coronavirus', 'Liveblog,Investigativ,Scholz', 'Krieg', 'USA', 'China', 'Inflation', 'DAX,Börse', 'Energiekrise', 'EU', 'Ukraine,Russland,Ukraine-Krieg']\n"
     ]
    }
   ],
   "source": [
    "topics_to_remove = ','.join(aggregated_topics).split(',')\n",
    "new_topics = list(set(topics).difference(set(topics_to_remove)).union(aggregated_topics))\n",
    "print(\"New topics: \", new_topics)"
   ]
  },
  {
   "cell_type": "code",
   "execution_count": 16,
   "metadata": {},
   "outputs": [],
   "source": [
    "df_topics = pd.DataFrame(columns=['topic','tag','count'])\n",
    "for topic in new_topics:\n",
    "    df_tmp = pd.DataFrame()\n",
    "    df_tmp[['tag', 'count']] = df_source_target_mapping.query(\"source in @topic.split(',')\")[['target', 'count']].values\n",
    "    df_tmp['topic'] = topic\n",
    "    df_topics = pd.concat([df_topics, df_tmp])\n",
    "    \n",
    "df_topics = df_topics.groupby(['topic', 'tag']).agg({'count': 'sum'}).reset_index()\n",
    "df_topics['rel_count'] = df_topics.groupby('topic')['count'].transform(lambda x: x / x.sum())\n",
    "df_topics['rank'] = df_topics.groupby('topic')['count'].rank(method='average', ascending=False)\n",
    "df_topics = df_topics.sort_values(['topic','rank'], ascending=[True, True]).set_index(['topic', 'rank'])\n",
    "# test\n",
    "# df_tmp.groupby('topic').agg({'rel_count': 'sum'})"
   ]
  },
  {
   "cell_type": "code",
   "execution_count": 17,
   "metadata": {},
   "outputs": [
    {
     "data": {
      "text/html": [
       "<div>\n",
       "<style scoped>\n",
       "    .dataframe tbody tr th:only-of-type {\n",
       "        vertical-align: middle;\n",
       "    }\n",
       "\n",
       "    .dataframe tbody tr th {\n",
       "        vertical-align: top;\n",
       "    }\n",
       "\n",
       "    .dataframe thead th {\n",
       "        text-align: right;\n",
       "    }\n",
       "</style>\n",
       "<table border=\"1\" class=\"dataframe\">\n",
       "  <thead>\n",
       "    <tr style=\"text-align: right;\">\n",
       "      <th></th>\n",
       "      <th></th>\n",
       "      <th>tag</th>\n",
       "      <th>count</th>\n",
       "      <th>rel_count</th>\n",
       "    </tr>\n",
       "    <tr>\n",
       "      <th>topic</th>\n",
       "      <th>rank</th>\n",
       "      <th></th>\n",
       "      <th></th>\n",
       "      <th></th>\n",
       "    </tr>\n",
       "  </thead>\n",
       "  <tbody>\n",
       "    <tr>\n",
       "      <th rowspan=\"5\" valign=\"top\">China</th>\n",
       "      <th>1.0</th>\n",
       "      <td>Coronavirus</td>\n",
       "      <td>86</td>\n",
       "      <td>0.071786</td>\n",
       "    </tr>\n",
       "    <tr>\n",
       "      <th>2.0</th>\n",
       "      <td>Russland</td>\n",
       "      <td>43</td>\n",
       "      <td>0.035893</td>\n",
       "    </tr>\n",
       "    <tr>\n",
       "      <th>3.0</th>\n",
       "      <td>Taiwan</td>\n",
       "      <td>37</td>\n",
       "      <td>0.030885</td>\n",
       "    </tr>\n",
       "    <tr>\n",
       "      <th>4.0</th>\n",
       "      <td>USA</td>\n",
       "      <td>27</td>\n",
       "      <td>0.022538</td>\n",
       "    </tr>\n",
       "    <tr>\n",
       "      <th>6.0</th>\n",
       "      <td>Lockdown</td>\n",
       "      <td>24</td>\n",
       "      <td>0.020033</td>\n",
       "    </tr>\n",
       "    <tr>\n",
       "      <th>...</th>\n",
       "      <th>...</th>\n",
       "      <td>...</td>\n",
       "      <td>...</td>\n",
       "      <td>...</td>\n",
       "    </tr>\n",
       "    <tr>\n",
       "      <th rowspan=\"5\" valign=\"top\">Ukraine,Russland,Ukraine-Krieg</th>\n",
       "      <th>1308.5</th>\n",
       "      <td>Ärzte</td>\n",
       "      <td>1</td>\n",
       "      <td>0.000079</td>\n",
       "    </tr>\n",
       "    <tr>\n",
       "      <th>1308.5</th>\n",
       "      <td>Ölkonzerne</td>\n",
       "      <td>1</td>\n",
       "      <td>0.000079</td>\n",
       "    </tr>\n",
       "    <tr>\n",
       "      <th>1308.5</th>\n",
       "      <td>Übernahme</td>\n",
       "      <td>1</td>\n",
       "      <td>0.000079</td>\n",
       "    </tr>\n",
       "    <tr>\n",
       "      <th>1308.5</th>\n",
       "      <td>Новини</td>\n",
       "      <td>1</td>\n",
       "      <td>0.000079</td>\n",
       "    </tr>\n",
       "    <tr>\n",
       "      <th>1308.5</th>\n",
       "      <td>Новости</td>\n",
       "      <td>1</td>\n",
       "      <td>0.000079</td>\n",
       "    </tr>\n",
       "  </tbody>\n",
       "</table>\n",
       "<p>6283 rows × 3 columns</p>\n",
       "</div>"
      ],
      "text/plain": [
       "                                               tag count rel_count\n",
       "topic                          rank                               \n",
       "China                          1.0     Coronavirus    86  0.071786\n",
       "                               2.0        Russland    43  0.035893\n",
       "                               3.0          Taiwan    37  0.030885\n",
       "                               4.0             USA    27  0.022538\n",
       "                               6.0        Lockdown    24  0.020033\n",
       "...                                            ...   ...       ...\n",
       "Ukraine,Russland,Ukraine-Krieg 1308.5        Ärzte     1  0.000079\n",
       "                               1308.5   Ölkonzerne     1  0.000079\n",
       "                               1308.5    Übernahme     1  0.000079\n",
       "                               1308.5       Новини     1  0.000079\n",
       "                               1308.5      Новости     1  0.000079\n",
       "\n",
       "[6283 rows x 3 columns]"
      ]
     },
     "execution_count": 17,
     "metadata": {},
     "output_type": "execute_result"
    }
   ],
   "source": [
    "df_topics"
   ]
  },
  {
   "cell_type": "markdown",
   "metadata": {},
   "source": [
    "# Evolution of tags\n",
    "Create a slope graph to show the evolution of tag occurrence between the current and previous month."
   ]
  },
  {
   "cell_type": "code",
   "execution_count": 18,
   "metadata": {},
   "outputs": [],
   "source": [
    "import pickle"
   ]
  },
  {
   "cell_type": "code",
   "execution_count": 19,
   "metadata": {},
   "outputs": [],
   "source": [
    "with open('data/news/tagesschau/2022/summed_tags.pkl', 'rb') as handle:\n",
    "    summed_tags = pickle.load(handle)\n"
   ]
  },
  {
   "cell_type": "code",
   "execution_count": 20,
   "metadata": {},
   "outputs": [
    {
     "data": {
      "text/html": [
       "<div>\n",
       "<style scoped>\n",
       "    .dataframe tbody tr th:only-of-type {\n",
       "        vertical-align: middle;\n",
       "    }\n",
       "\n",
       "    .dataframe tbody tr th {\n",
       "        vertical-align: top;\n",
       "    }\n",
       "\n",
       "    .dataframe thead th {\n",
       "        text-align: right;\n",
       "    }\n",
       "</style>\n",
       "<table border=\"1\" class=\"dataframe\">\n",
       "  <thead>\n",
       "    <tr style=\"text-align: right;\">\n",
       "      <th></th>\n",
       "      <th>allTagsPerMonth</th>\n",
       "      <th>tags_frequency</th>\n",
       "    </tr>\n",
       "    <tr>\n",
       "      <th>timestamp</th>\n",
       "      <th></th>\n",
       "      <th></th>\n",
       "    </tr>\n",
       "  </thead>\n",
       "  <tbody>\n",
       "    <tr>\n",
       "      <th>2022-01-31</th>\n",
       "      <td>[Silvester, 2021, Neujahr, G7, Russland, China...</td>\n",
       "      <td>{'Silvester': 5, '2021': 6, 'Neujahr': 3, 'G7'...</td>\n",
       "    </tr>\n",
       "  </tbody>\n",
       "</table>\n",
       "</div>"
      ],
      "text/plain": [
       "                                              allTagsPerMonth  \\\n",
       "timestamp                                                       \n",
       "2022-01-31  [Silvester, 2021, Neujahr, G7, Russland, China...   \n",
       "\n",
       "                                               tags_frequency  \n",
       "timestamp                                                      \n",
       "2022-01-31  {'Silvester': 5, '2021': 6, 'Neujahr': 3, 'G7'...  "
      ]
     },
     "execution_count": 20,
     "metadata": {},
     "output_type": "execute_result"
    }
   ],
   "source": [
    "summed_tags['monthly'][summed_tags['monthly'].index.month == 1]\n"
   ]
  },
  {
   "cell_type": "code",
   "execution_count": 21,
   "metadata": {},
   "outputs": [],
   "source": [
    "mask = summed_tags['monthly'].index.month == 5\n",
    "tag_counts_5 = summed_tags['monthly'].loc[mask, 'tags_frequency'].item()\n",
    "\n",
    "mask = summed_tags['monthly'].index.month == 6\n",
    "tag_counts_6 = summed_tags['monthly'].loc[mask, 'tags_frequency'].item()\n",
    "\n",
    "mask = summed_tags['monthly'].index.month == 7\n",
    "tag_counts_7 = summed_tags['monthly'].loc[mask, 'tags_frequency'].item()\n",
    "\n",
    "mask = summed_tags['monthly'].index.month == 8\n",
    "tag_counts_8 = summed_tags['monthly'].loc[mask, 'tags_frequency'].item()"
   ]
  },
  {
   "cell_type": "code",
   "execution_count": 36,
   "metadata": {},
   "outputs": [],
   "source": [
    "df = pd.DataFrame(tag_counts_8.most_common(4), columns=['tag', 'counts_8']).set_index('tag')"
   ]
  },
  {
   "cell_type": "code",
   "execution_count": 37,
   "metadata": {},
   "outputs": [],
   "source": [
    "df['counts_5'] = 0\n",
    "df['counts_6'] = 0\n",
    "df['counts_7'] = 0\n",
    "\n",
    "for tag in df.index:\n",
    "    df.loc[tag, 'counts_5'] = tag_counts_5[tag]\n",
    "    df.loc[tag, 'counts_6'] = tag_counts_6[tag]\n",
    "    df.loc[tag, 'counts_7'] = tag_counts_7[tag]\n",
    "    "
   ]
  },
  {
   "cell_type": "markdown",
   "metadata": {},
   "source": [
    "## Slope graph"
   ]
  },
  {
   "cell_type": "code",
   "execution_count": 38,
   "metadata": {},
   "outputs": [],
   "source": [
    "import numpy as np\n",
    "from datetime import date"
   ]
  },
  {
   "cell_type": "code",
   "execution_count": 39,
   "metadata": {},
   "outputs": [],
   "source": [
    "# # Define the x and y values for the slope\n",
    "# x = [date(2021,1,1), date(2022,1,1)]\n",
    "# y = [np.random.randint(1,10, size=len(x)) for _ in range(4)]\n",
    "# index = x\n",
    "# labels = [f\"Label {i}\" for i in range(4)]\n",
    "# values = y\n",
    "# df = pd.DataFrame(data={label: value for label, value in zip(labels, values)}, index=index)"
   ]
  },
  {
   "cell_type": "code",
   "execution_count": 40,
   "metadata": {},
   "outputs": [],
   "source": [
    "def plot_slope_graph(x, y, labels, xticks=None):\n",
    "    # Create the plot\n",
    "    if xticks is None:\n",
    "        xticks = x\n",
    "    labels_coords = []\n",
    "    label_counter = {key: 0 for key in [y_[0] for y_ in y]}\n",
    "    y_offset = 0\n",
    "    num_digits = len(str(np.max([y_[0] for y_ in y])))\n",
    "    x_offset = -25 - (5 * num_digits)\n",
    "    fig, ax = plt.subplots(figsize=(6,8), tight_layout=True)\n",
    "    for i, y_ in enumerate(y):\n",
    "        if y_[1] > y_[0]:\n",
    "            color = 'C0'\n",
    "            weight = 'bold'\n",
    "        else:\n",
    "            color = 'grey'\n",
    "            weight = 'normal'\n",
    "        ax.plot(x, y_, color=color, linewidth=3)\n",
    "        ax.scatter([x[0],x[-1]], [y_[0],y_[-1]], c=color, marker='o', s=100)\n",
    "        ax.annotate(f\"{y_[0]}\", xy=(x[0],y_[0]), xytext=(-10,0), textcoords='offset points', horizontalalignment='right', verticalalignment='center', color=color, weight=weight)\n",
    "        ax.annotate(f\"{y_[-1]}\", xy=(x[-1],y_[-1]), xytext=(10,0), textcoords='offset points', horizontalalignment='left', verticalalignment='center', color=color, weight=weight)\n",
    "        \n",
    "        \n",
    "        label_coords = (x[0],y_[0])\n",
    "        label_y_offset = y_offset\n",
    "        if label_coords in labels_coords:\n",
    "            label_counter[y_[0]] +=1\n",
    "            y_offset = 15 * label_counter[y_[0]]\n",
    "        else:\n",
    "            y_offset = 0\n",
    "        ax.annotate(labels[i], xy=label_coords, xytext=(x_offset,0-y_offset), textcoords='offset points', horizontalalignment='right', verticalalignment='center', color=color)\n",
    "        labels_coords.append((x[0],y_[0]))\n",
    "        # labels['y_offset'].append(y_offset)\n",
    "    # if x_label is not None:\n",
    "    #     ymax = np.max([y_[0] for y_ in y])\n",
    "    #     ax.annotate(x_label, xy=(x[0],ymax), xytext=(x_offset,30), textcoords='offset points', horizontalalignment='right', verticalalignment='center', color=color)\n",
    "    #     ax.annotate(\"|\", xy=(x[0],ymax), xytext=(x_offset+5,30), textcoords='offset points', horizontalalignment='center', verticalalignment='center', color=color)\n",
    "    # if y_label is not None:\n",
    "    #     ymax = np.max([y_[0] for y_ in y])\n",
    "    #     ax.annotate(y_label, xy=(x[0],ymax), xytext=(-10,30), textcoords='offset points', horizontalalignment='right', verticalalignment='center', color=color)\n",
    "    # plt.xticks(x, xticks)\n",
    "    # remove the y-axis\n",
    "    ax.spines['left'].set_visible(False)\n",
    "    ax.spines['right'].set_visible(False)\n",
    "    ax.spines['top'].set_visible(False)\n",
    "    # plt.gca().spines['top'].set_visible(False)\n",
    "\n",
    "    # remove the y-axis\n",
    "    ax.yaxis.set_visible(False)\n",
    "    return fig, ax\n"
   ]
  },
  {
   "cell_type": "code",
   "execution_count": 41,
   "metadata": {},
   "outputs": [],
   "source": [
    "import calendar"
   ]
  },
  {
   "cell_type": "code",
   "execution_count": 42,
   "metadata": {},
   "outputs": [],
   "source": [
    "y = df[['counts_5', 'counts_6','counts_7','counts_8']].values\n",
    "x = [calendar.month_abbr[month_num] for month_num in [5,6,7,8]]\n",
    "labels = df.index"
   ]
  },
  {
   "cell_type": "code",
   "execution_count": 43,
   "metadata": {},
   "outputs": [
    {
     "data": {
      "image/png": "[encoded data removed]",
      "text/plain": [
       "<Figure size 600x800 with 1 Axes>"
      ]
     },
     "metadata": {},
     "output_type": "display_data"
    }
   ],
   "source": [
    "fig, ax = plot_slope_graph(x,y,labels)"
   ]
  },
  {
   "cell_type": "code",
   "execution_count": null,
   "metadata": {},
   "outputs": [
    {
     "data": {
      "text/plain": [
       "6.0"
      ]
     },
     "execution_count": 955,
     "metadata": {},
     "output_type": "execute_result"
    }
   ],
   "source": [
    "fig.get_figwidth()"
   ]
  },
  {
   "cell_type": "code",
   "execution_count": null,
   "metadata": {},
   "outputs": [],
   "source": [
    "fig.savefig(\"data/news/tagesschau/2022/sample-tag-evolution.png\", dpi=300, )"
   ]
  }
 ],
 "metadata": {
  "interpreter": {
   "hash": "187b1988031df14b784b1ca83dcf6c508f75d9af158ade7af96a8719ac4cf2b2"
  },
  "kernelspec": {
   "display_name": "Python 3.8.5 ('base')",
   "language": "python",
   "name": "python3"
  },
  "language_info": {
   "codemirror_mode": {
    "name": "ipython",
    "version": 3
   },
   "file_extension": ".py",
   "mimetype": "text/x-python",
   "name": "python",
   "nbconvert_exporter": "python",
   "pygments_lexer": "ipython3",
   "version": "3.8.5"
  },
  "orig_nbformat": 4
 },
 "nbformat": 4,
 "nbformat_minor": 2
}
