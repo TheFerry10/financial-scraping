{
 "cells": [
  {
   "cell_type": "code",
   "execution_count": 16,
   "metadata": {},
   "outputs": [
    {
     "name": "stdout",
     "output_type": "stream",
     "text": [
      "Processing data/stocks/raw/20220824T074737_xetra.csv\n"
     ]
    }
   ],
   "source": [
    "import pandas as pd\n",
    "import numpy as np\n",
    "import re\n",
    "import os\n",
    "from glob import glob\n",
    "\n",
    "processed_stocks_folder = \"data/stocks/processed\"\n",
    "os.makedirs(processed_stocks_folder, exist_ok=True)\n",
    "\n",
    "raw_files = glob(\"data/stocks/raw/*.csv\")\n",
    "for file_name in raw_files:\n",
    "    print(f\"Processing {file_name}\")\n",
    "    processed_file_path = os.path.join(processed_stocks_folder,\n",
    "                                       os.path.basename(file_name))\n",
    "    df_stocks = pd.read_csv(file_name)\n",
    "    df_stocks['CURRENCY'] = df_stocks['STOCK'].apply(lambda x: x.split('\\n')[1])\n",
    "    df_stocks['STOCK'] = df_stocks['STOCK'].apply(lambda x: x.split('\\n')[0])\n",
    "    df_stocks['CURRENCY'] = df_stocks['CURRENCY'].apply(lambda x: re.search('\\w+', x).group(0))\n",
    "    df_stocks.to_csv(processed_file_path, index=False)\n",
    "\n"
   ]
  },
  {
   "cell_type": "code",
   "execution_count": null,
   "metadata": {},
   "outputs": [],
   "source": []
  }
 ],
 "metadata": {
  "interpreter": {
   "hash": "187b1988031df14b784b1ca83dcf6c508f75d9af158ade7af96a8719ac4cf2b2"
  },
  "kernelspec": {
   "display_name": "Python 3.8.5 ('base')",
   "language": "python",
   "name": "python3"
  },
  "language_info": {
   "codemirror_mode": {
    "name": "ipython",
    "version": 3
   },
   "file_extension": ".py",
   "mimetype": "text/x-python",
   "name": "python",
   "nbconvert_exporter": "python",
   "pygments_lexer": "ipython3",
   "version": "3.8.5"
  },
  "orig_nbformat": 4
 },
 "nbformat": 4,
 "nbformat_minor": 2
}
